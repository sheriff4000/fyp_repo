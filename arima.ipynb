{
 "cells": [
  {
   "cell_type": "code",
   "execution_count": 1,
   "metadata": {},
   "outputs": [
    {
     "name": "stderr",
     "output_type": "stream",
     "text": [
      "\u001b[32m\u001b[1m    Updating\u001b[22m\u001b[39m registry at `~/.julia/registries/General.toml`\n"
     ]
    },
    {
     "name": "stderr",
     "output_type": "stream",
     "text": [
      "\u001b[32m\u001b[1m   Resolving\u001b[22m\u001b[39m package versions...\n"
     ]
    },
    {
     "name": "stderr",
     "output_type": "stream",
     "text": [
      "\u001b[32m\u001b[1m    Updating\u001b[22m\u001b[39m `~/Documents/uni-4/FYP/fyp_repo/Project.toml`\n",
      "  \u001b[90m[fd094767] \u001b[39m\u001b[92m+ Suppressor v0.2.6\u001b[39m\n",
      "\u001b[32m\u001b[1m    Updating\u001b[22m\u001b[39m `~/Documents/uni-4/FYP/fyp_repo/Manifest.toml`\n",
      "  \u001b[90m[fd094767] \u001b[39m\u001b[92m+ Suppressor v0.2.6\u001b[39m\n",
      "  \u001b[90m[56ddb016] \u001b[39m\u001b[92m+ Logging\u001b[39m\n"
     ]
    },
    {
     "name": "stderr",
     "output_type": "stream",
     "text": [
      "┌ Info: Dependencies added\n",
      "└ @ Main /Users/sherifagbabiaka/Documents/uni-4/FYP/fyp_repo/arima.ipynb:5\n"
     ]
    }
   ],
   "source": [
    "# Setup the dependencies\n",
    "using Pkg; Pkg.add(\"Suppressor\"); using Suppressor: @suppress;\n",
    "@suppress Pkg.add(url=\"https://github.com/JuDO-dev/AirBorne.jl#dev\")\n",
    "@suppress Pkg.add([\"Dates\",\"Plots\",\"DataFrames\"])\n",
    "@supress Pkg.add(\"Optim\")\n",
    "@info \"Dependencies added\"\n",
    "     "
   ]
  },
  {
   "cell_type": "code",
   "execution_count": 2,
   "metadata": {},
   "outputs": [
    {
     "data": {
      "text/plain": [
       "1259-element Vector{Float64}:\n",
       "  39.30699920654297\n",
       "  39.345001220703125\n",
       "  39.70100021362305\n",
       "  40.307498931884766\n",
       "  40.33250045776367\n",
       "  40.239498138427734\n",
       "  40.39550018310547\n",
       "  40.31800079345703\n",
       "  40.39400100708008\n",
       "  40.230499267578125\n",
       "   ⋮\n",
       " 142.40150451660156\n",
       " 144.2205047607422\n",
       " 146.94900512695312\n",
       " 147.1425018310547\n",
       " 148.06399536132812\n",
       " 146.447998046875\n",
       " 146.50450134277344\n",
       " 146.00250244140625\n",
       " 144.67950439453125"
      ]
     },
     "metadata": {},
     "output_type": "display_data"
    }
   ],
   "source": [
    "using AirBorne.ETL.YFinance: get_interday_data\n",
    "using Dates: DateTime,datetime2unix\n",
    "# To generate this data use:\n",
    "unix(x) = string(round(Int, datetime2unix(DateTime(x))))\n",
    "data = get_interday_data([\"GOOG\"], unix(\"2017-01-01\"), unix(\"2022-01-01\"))\n",
    "prices = data.close\n",
    "prices"
   ]
  },
  {
   "cell_type": "code",
   "execution_count": 6,
   "metadata": {},
   "outputs": [
    {
     "name": "stderr",
     "output_type": "stream",
     "text": [
      "\u001b[32m\u001b[1m   Resolving\u001b[22m\u001b[39m package versions...\n"
     ]
    },
    {
     "name": "stderr",
     "output_type": "stream",
     "text": [
      "\u001b[32m\u001b[1m   Installed\u001b[22m\u001b[39m SeasonalTrendLoess ────── v0.1.0\n"
     ]
    },
    {
     "name": "stderr",
     "output_type": "stream",
     "text": [
      "\u001b[32m\u001b[1m   Installed\u001b[22m\u001b[39m PDMats ────────────────── v0.11.31\n",
      "\u001b[32m\u001b[1m   Installed\u001b[22m\u001b[39m StatsFuns ─────────────── v1.3.0\n"
     ]
    },
    {
     "name": "stderr",
     "output_type": "stream",
     "text": [
      "\u001b[32m\u001b[1m   Installed\u001b[22m\u001b[39m LinearMaps ────────────── v3.11.1\n"
     ]
    },
    {
     "name": "stderr",
     "output_type": "stream",
     "text": [
      "\u001b[32m\u001b[1m   Installed\u001b[22m\u001b[39m Calculus ──────────────── v0.5.1\n",
      "\u001b[32m\u001b[1m   Installed\u001b[22m\u001b[39m FiniteDiff ────────────── v2.22.0\n",
      "\u001b[32m\u001b[1m   Installed\u001b[22m\u001b[39m StateSpaceModels ──────── v0.6.7\n"
     ]
    },
    {
     "name": "stderr",
     "output_type": "stream",
     "text": [
      "\u001b[32m\u001b[1m   Installed\u001b[22m\u001b[39m HypergeometricFunctions ─ v0.3.23\n",
      "\u001b[32m\u001b[1m   Installed\u001b[22m\u001b[39m Polynomials ───────────── v2.0.25\n"
     ]
    },
    {
     "name": "stderr",
     "output_type": "stream",
     "text": [
      "\u001b[32m\u001b[1m   Installed\u001b[22m\u001b[39m Rmath_jll ─────────────── v0.4.0+0\n"
     ]
    },
    {
     "name": "stderr",
     "output_type": "stream",
     "text": [
      "\u001b[32m\u001b[1m   Installed\u001b[22m\u001b[39m NLSolversBase ─────────── v7.8.3\n",
      "\u001b[32m\u001b[1m   Installed\u001b[22m\u001b[39m PositiveFactorizations ── v0.2.4\n",
      "\u001b[32m\u001b[1m   Installed\u001b[22m\u001b[39m ExprTools ─────────────── v0.1.10\n"
     ]
    },
    {
     "name": "stderr",
     "output_type": "stream",
     "text": [
      "\u001b[32m\u001b[1m   Installed\u001b[22m\u001b[39m Intervals ─────────────── v1.10.0\n"
     ]
    },
    {
     "name": "stderr",
     "output_type": "stream",
     "text": [
      "\u001b[32m\u001b[1m   Installed\u001b[22m\u001b[39m StatsBase ─────────────── v0.33.21\n"
     ]
    },
    {
     "name": "stderr",
     "output_type": "stream",
     "text": [
      "\u001b[32m\u001b[1m   Installed\u001b[22m\u001b[39m MatrixEquations ───────── v2.3.2\n",
      "\u001b[32m\u001b[1m   Installed\u001b[22m\u001b[39m Rmath ─────────────────── v0.7.1\n",
      "\u001b[32m\u001b[1m   Installed\u001b[22m\u001b[39m UnPack ────────────────── v1.0.2\n",
      "\u001b[32m\u001b[1m   Installed\u001b[22m\u001b[39m DualNumbers ───────────── v0.6.8\n",
      "\u001b[32m\u001b[1m   Installed\u001b[22m\u001b[39m ArrayInterface ────────── v7.7.0\n",
      "\u001b[32m\u001b[1m   Installed\u001b[22m\u001b[39m LineSearches ──────────── v7.2.0\n",
      "\u001b[32m\u001b[1m   Installed\u001b[22m\u001b[39m TimeZones ─────────────── v1.13.0\n"
     ]
    },
    {
     "name": "stderr",
     "output_type": "stream",
     "text": [
      "\u001b[32m\u001b[1m   Installed\u001b[22m\u001b[39m TZJData ───────────────── v1.0.0+2023c\n",
      "\u001b[32m\u001b[1m   Installed\u001b[22m\u001b[39m Mocking ───────────────── v0.7.7\n",
      "\u001b[32m\u001b[1m   Installed\u001b[22m\u001b[39m ShiftedArrays ─────────── v1.0.0\n",
      "\u001b[32m\u001b[1m   Installed\u001b[22m\u001b[39m Parameters ────────────── v0.12.3\n"
     ]
    },
    {
     "name": "stderr",
     "output_type": "stream",
     "text": [
      "\u001b[32m\u001b[1m   Installed\u001b[22m\u001b[39m QuadGK ────────────────── v2.9.1\n",
      "\u001b[32m\u001b[1m   Installed\u001b[22m\u001b[39m Distributions ─────────── v0.25.107\n",
      "\u001b[32m\u001b[1m   Installed\u001b[22m\u001b[39m Optim ─────────────────── v1.7.8\n"
     ]
    },
    {
     "name": "stderr",
     "output_type": "stream",
     "text": [
      "\u001b[32m\u001b[1m    Updating\u001b[22m\u001b[39m `~/Documents/uni-4/FYP/fyp_repo/Project.toml`\n",
      "  \u001b[90m[99342f36] \u001b[39m\u001b[92m+ StateSpaceModels v0.6.7\u001b[39m\n",
      "\u001b[32m\u001b[1m    Updating\u001b[22m\u001b[39m `~/Documents/uni-4/FYP/fyp_repo/Manifest.toml`\n",
      " "
     ]
    },
    {
     "name": "stderr",
     "output_type": "stream",
     "text": [
      " \u001b[90m[4fba245c] \u001b[39m\u001b[92m+ ArrayInterface v7.7.0\u001b[39m\n",
      "  \u001b[90m[49dc2e85] \u001b[39m\u001b[92m+ Calculus v0.5.1\u001b[39m\n",
      "  \u001b[90m[31c24e10] \u001b[39m\u001b[92m+ Distributions v0.25.107\u001b[39m\n",
      "  \u001b[90m[fa6b7ba4] \u001b[39m\u001b[92m+ DualNumbers v0.6.8\u001b[39m\n",
      "  \u001b[90m[e2ba6199] \u001b[39m\u001b[92m+ ExprTools v0.1.10\u001b[39m\n",
      "  \u001b[90m[6a86dc24] \u001b[39m\u001b[92m+ FiniteDiff v2.22.0\u001b[39m\n",
      "  \u001b[90m[34004b35] \u001b[39m\u001b[92m+ HypergeometricFunctions v0.3.23\u001b[39m\n",
      "  \u001b[90m[d8418881] \u001b[39m\u001b[92m+ Intervals v1.10.0\u001b[39m\n",
      "  \u001b[90m[d3d80556] \u001b[39m\u001b[92m+ LineSearches v7.2.0\u001b[39m\n",
      "  \u001b[90m[7a12625a] \u001b[39m\u001b[92m+ LinearMaps v3.11.1\u001b[39m\n",
      "  \u001b[90m[99c1a7ee] \u001b[39m\u001b[92m+ MatrixEquations v2.3.2\u001b[39m\n",
      "  \u001b[90m[78c3b35d] \u001b[39m\u001b[92m+ Mocking v0.7.7\u001b[39m\n",
      "  \u001b[90m[d41bc354] \u001b[39m\u001b[92m+ NLSolversBase v7.8.3\u001b[39m\n",
      "  \u001b[90m[429524aa] \u001b[39m\u001b[92m+ Optim v1.7.8\u001b[39m\n",
      "  \u001b[90m[90014a1f] \u001b[39m\u001b[92m+ PDMats v0.11.31\u001b[39m\n",
      "  \u001b[90m[d96e819e] \u001b[39m\u001b[92m+ Parameters v0.12.3\u001b[39m\n",
      "\u001b[33m⌅\u001b[39m \u001b[90m[f27b6e38] \u001b[39m\u001b[92m+ Polynomials v2.0.25\u001b[39m\n",
      "  \u001b[90m[85a6dd25] \u001b[39m\u001b[92m+ PositiveFactorizations v0.2.4\u001b[39m\n",
      "  \u001b[90m[1fd47b50] \u001b[39m\u001b[92m+ QuadGK v2.9.1\u001b[39m\n",
      "  \u001b[90m[79098fc4] \u001b[39m\u001b[92m+ Rmath v0.7.1\u001b[39m\n",
      "  \u001b[90m[42fb36cb] \u001b[39m\u001b[92m+ SeasonalTrendLoess v0.1.0\u001b[39m\n",
      "\u001b[33m⌅\u001b[39m \u001b[90m[1277b4bf] \u001b[39m\u001b[92m+ ShiftedArrays v1.0.0\u001b[39m\n",
      "  \u001b[90m[99342f36] \u001b[39m\u001b[92m+ StateSpaceModels v0.6.7\u001b[39m\n",
      "\u001b[33m⌅\u001b[39m \u001b[90m[2913bbd2] \u001b[39m\u001b[95m↓ StatsBase v0.34.2 ⇒ v0.33.21\u001b[39m\n",
      "  \u001b[90m[4c63d2b9] \u001b[39m\u001b[92m+ StatsFuns v1.3.0\u001b[39m\n",
      "  \u001b[90m[dc5dba14] \u001b[39m\u001b[92m+ TZJData v1.0.0+2023c\u001b[39m\n",
      "  \u001b[90m[f269a46b] \u001b[39m\u001b[92m+ TimeZones v1.13.0\u001b[39m\n",
      "  \u001b[90m[3a884ed6] \u001b[39m\u001b[92m+ UnPack v1.0.2\u001b[39m\n",
      "  \u001b[90m[f50d1b31] \u001b[39m\u001b[92m+ Rmath_jll v0.4.0+0\u001b[39m\n",
      "  \u001b[90m[4af54fe1] \u001b[39m\u001b[92m+ LazyArtifacts\u001b[39m\n",
      "  \u001b[90m[4607b0f0] \u001b[39m\u001b[92m+ SuiteSparse\u001b[39m\n",
      "\u001b[36m\u001b[1m        Info\u001b[22m\u001b[39m Packages marked with \u001b[33m⌅\u001b[39m have new versions available but compatibility constraints restrict them from upgrading. To see why use `status --outdated -m`\n"
     ]
    },
    {
     "name": "stderr",
     "output_type": "stream",
     "text": [
      "\u001b[32m\u001b[1mPrecompiling\u001b[22m\u001b[39m "
     ]
    },
    {
     "name": "stderr",
     "output_type": "stream",
     "text": [
      "project...\n"
     ]
    },
    {
     "name": "stderr",
     "output_type": "stream",
     "text": [
      "\u001b[32m  ✓ \u001b[39m\u001b[90mCalculus\u001b[39m\n"
     ]
    },
    {
     "name": "stderr",
     "output_type": "stream",
     "text": [
      "\u001b[32m  ✓ \u001b[39m\u001b[90mSeasonalTrendLoess\u001b[39m\n"
     ]
    },
    {
     "name": "stderr",
     "output_type": "stream",
     "text": [
      "\u001b[32m  ✓ \u001b[39m\u001b[90mTZJData\u001b[39m\n",
      "\u001b[32m  ✓ \u001b[39m\u001b[90mPDMats\u001b[39m\n"
     ]
    },
    {
     "name": "stderr",
     "output_type": "stream",
     "text": [
      "\u001b[32m  ✓ \u001b[39m\u001b[90mShiftedArrays\u001b[39m\n"
     ]
    },
    {
     "name": "stderr",
     "output_type": "stream",
     "text": [
      "\u001b[32m  ✓ \u001b[39m\u001b[90mUnPack\u001b[39m\n"
     ]
    },
    {
     "name": "stderr",
     "output_type": "stream",
     "text": [
      "\u001b[32m  ✓ \u001b[39m\u001b[90mPositiveFactorizations\u001b[39m\n",
      "\u001b[32m  ✓ \u001b[39m\u001b[90mExprTools\u001b[39m\n"
     ]
    },
    {
     "name": "stderr",
     "output_type": "stream",
     "text": [
      "\u001b[32m  ✓ \u001b[39m\u001b[90mRmath_jll\u001b[39m\n"
     ]
    },
    {
     "name": "stderr",
     "output_type": "stream",
     "text": [
      "\u001b[32m  ✓ \u001b[39m\u001b[90mLinearMaps\u001b[39m\n"
     ]
    },
    {
     "name": "stderr",
     "output_type": "stream",
     "text": [
      "\u001b[32m  ✓ \u001b[39m\u001b[90mArrayInterface\u001b[39m\n"
     ]
    },
    {
     "name": "stderr",
     "output_type": "stream",
     "text": [
      "\u001b[32m  ✓ \u001b[39m\u001b[90mQuadGK\u001b[39m\n"
     ]
    },
    {
     "name": "stderr",
     "output_type": "stream",
     "text": [
      "\u001b[32m  ✓ \u001b[39m\u001b[90mMocking\u001b[39m\n"
     ]
    },
    {
     "name": "stderr",
     "output_type": "stream",
     "text": [
      "\u001b[32m  ✓ \u001b[39m\u001b[90mDualNumbers\u001b[39m\n"
     ]
    },
    {
     "name": "stderr",
     "output_type": "stream",
     "text": [
      "\u001b[32m  ✓ \u001b[39m\u001b[90mParameters\u001b[39m\n",
      "\u001b[32m  ✓ \u001b[39m\u001b[90mFillArrays → FillArraysPDMatsExt\u001b[39m\n"
     ]
    },
    {
     "name": "stderr",
     "output_type": "stream",
     "text": [
      "\u001b[32m  ✓ \u001b[39m\u001b[90mStatsBase\u001b[39m\n"
     ]
    },
    {
     "name": "stderr",
     "output_type": "stream",
     "text": [
      "\u001b[32m  ✓ \u001b[39m\u001b[90mArrayInterface → ArrayInterfaceStaticArraysCoreExt\u001b[39m\n"
     ]
    },
    {
     "name": "stderr",
     "output_type": "stream",
     "text": [
      "\u001b[32m  ✓ \u001b[39m\u001b[90mRmath\u001b[39m\n",
      "\u001b[32m  ✓ \u001b[39m\u001b[90mHypergeometricFunctions\u001b[39m\n"
     ]
    },
    {
     "name": "stderr",
     "output_type": "stream",
     "text": [
      "\u001b[32m  ✓ \u001b[39m\u001b[90mFiniteDiff\u001b[39m\n"
     ]
    },
    {
     "name": "stderr",
     "output_type": "stream",
     "text": [
      "\u001b[32m  ✓ \u001b[39m\u001b[90mLinearMaps → LinearMapsStatisticsExt\u001b[39m\n"
     ]
    },
    {
     "name": "stderr",
     "output_type": "stream",
     "text": [
      "\u001b[32m  ✓ \u001b[39m\u001b[90mLinearMaps → LinearMapsSparseArraysExt\u001b[39m\n"
     ]
    },
    {
     "name": "stderr",
     "output_type": "stream",
     "text": [
      "\u001b[32m  ✓ \u001b[39m\u001b[90mFiniteDiff → FiniteDiffStaticArraysExt\u001b[39m\n"
     ]
    },
    {
     "name": "stderr",
     "output_type": "stream",
     "text": [
      "\u001b[32m  ✓ \u001b[39m\u001b[90mStatsFuns\u001b[39m\n"
     ]
    },
    {
     "name": "stderr",
     "output_type": "stream",
     "text": [
      "\u001b[32m  ✓ \u001b[39m\u001b[90mNLSolversBase\u001b[39m\n"
     ]
    },
    {
     "name": "stderr",
     "output_type": "stream",
     "text": [
      "\u001b[32m  ✓ \u001b[39m\u001b[90mMatrixEquations\u001b[39m\n"
     ]
    },
    {
     "name": "stderr",
     "output_type": "stream",
     "text": [
      "\u001b[32m  ✓ \u001b[39m\u001b[90mLineSearches\u001b[39m\n"
     ]
    },
    {
     "name": "stderr",
     "output_type": "stream",
     "text": [
      "\u001b[32m  ✓ \u001b[39m\u001b[90mTimeZones\u001b[39m\n"
     ]
    },
    {
     "name": "stderr",
     "output_type": "stream",
     "text": [
      "\u001b[32m  ✓ \u001b[39m\u001b[90mTimeZones → TimeZonesRecipesBaseExt\u001b[39m\n"
     ]
    },
    {
     "name": "stderr",
     "output_type": "stream",
     "text": [
      "\u001b[32m  ✓ \u001b[39m\u001b[90mDistributions\u001b[39m\n"
     ]
    },
    {
     "name": "stderr",
     "output_type": "stream",
     "text": [
      "\u001b[32m  ✓ \u001b[39m\u001b[90mOptim\u001b[39m\n"
     ]
    },
    {
     "name": "stderr",
     "output_type": "stream",
     "text": [
      "\u001b[32m  ✓ \u001b[39m\u001b[90mIntervals\u001b[39m\n"
     ]
    },
    {
     "name": "stderr",
     "output_type": "stream",
     "text": [
      "\u001b[32m  ✓ \u001b[39m\u001b[90mDistributions → DistributionsTestExt\u001b[39m\n"
     ]
    },
    {
     "name": "stderr",
     "output_type": "stream",
     "text": [
      "\u001b[32m  ✓ \u001b[39m\u001b[90mPolynomials\u001b[39m\n"
     ]
    },
    {
     "name": "stderr",
     "output_type": "stream",
     "text": [
      "\u001b[32m  ✓ \u001b[39mStateSpaceModels\n"
     ]
    },
    {
     "name": "stderr",
     "output_type": "stream",
     "text": [
      "\u001b[32m  ✓ \u001b[39mPlots\n"
     ]
    },
    {
     "name": "stderr",
     "output_type": "stream",
     "text": [
      "\u001b[32m  ✓ \u001b[39m\u001b[90mPlots → FileIOExt\u001b[39m\n"
     ]
    },
    {
     "name": "stderr",
     "output_type": "stream",
     "text": [
      "\u001b[32m  ✓ \u001b[39m\u001b[90mPlots → UnitfulExt\u001b[39m\n"
     ]
    },
    {
     "name": "stderr",
     "output_type": "stream",
     "text": [
      "  39 dependencies successfully precompiled in 134 seconds. 246 already precompiled.\n",
      "  \u001b[33m1\u001b[39m dependency had output during precompilation:\u001b[33m\n",
      "┌ \u001b[39mPolynomials [f27b6e38-b328-58d1-80ce-0feddd5e7a45]\u001b[33m\n",
      "│  \u001b[39mWARNING: method definition for showterm at /Users/sherifagbabiaka/.julia/packages/Polynomials/Rrf70/src/polynomials/ChebyshevT.jl:270 declares type variable N but does not use it.\u001b[33m\n",
      "│  \u001b[39mWARNING: method definition for convert at /Users/sherifagbabiaka/.julia/packages/Polynomials/Rrf70/src/rational-functions/common.jl:88 declares type variable P but does not use it.\u001b[33m\n",
      "│  \u001b[39mWARNING: method definition for convert at /Users/sherifagbabiaka/.julia/packages/Polynomials/Rrf70/src/rational-functions/common.jl:88 declares type variable X but does not use it.\u001b[33m\n",
      "│  \u001b[39mWARNING: method definition for convert at /Users/sherifagbabiaka/.julia/packages/Polynomials/Rrf70/src/rational-functions/common.jl:88 declares type variable T but does not use it.\u001b[33m\n",
      "└  \u001b[39m\n"
     ]
    }
   ],
   "source": [
    "Pkg.add(\"StateSpaceModels\")\n",
    "using StateSpaceModels"
   ]
  },
  {
   "cell_type": "code",
   "execution_count": 96,
   "metadata": {},
   "outputs": [
    {
     "name": "stderr",
     "output_type": "stream",
     "text": [
      "┌ Warning: Conditional sum of squares estimated initial_ar out of the unit circle, using zero as starting params\n",
      "└ @ StateSpaceModels /Users/sherifagbabiaka/.julia/packages/StateSpaceModels/DmxMT/src/models/sarima.jl:587\n",
      "┌ Warning: The optimization process converged but the Hessian matrix is not positive definite. This means that StateSpaceModels.jl cannot estimate the distribution of the hyperparameters If you are interested in estimates of the distribution of ther hyperparameters we advise you tochange the optimization algorithm by using the kwarg fit(...; optimizer = Optimizer(StateSpaceModels.Optim.THE_METHOD_OF_YOUR_CHOICE()))The list of possible algorithms can be found on this link https://julianlsolvers.github.io/Optim.jl/stable/# otherwise you can simply skip this proccess by using fit(...; save_hyperparameter_distribution=false) \n",
      "└ @ StateSpaceModels /Users/sherifagbabiaka/.julia/packages/StateSpaceModels/DmxMT/src/fit.jl:57\n"
     ]
    },
    {
     "data": {
      "text/plain": [
       "20-element Vector{Int64}:\n",
       "  1\n",
       "  2\n",
       "  3\n",
       "  4\n",
       "  5\n",
       "  6\n",
       "  7\n",
       "  8\n",
       "  9\n",
       " 10\n",
       " 11\n",
       " 12\n",
       " 13\n",
       " 14\n",
       " 15\n",
       " 16\n",
       " 17\n",
       " 18\n",
       " 19\n",
       " 20"
      ]
     },
     "metadata": {},
     "output_type": "display_data"
    }
   ],
   "source": [
    "using Plots\n",
    "using Optim\n",
    "\n",
    "# SARIMA\n",
    "steps_ahead = 20\n",
    "model_sarima = SARIMA(prices[1000:end-steps_ahead]; order = (60, 1,20))\n",
    "fit!(model_sarima, optimizer = Optimizer(StateSpaceModels.Optim.NelderMead()))\n",
    "forec_sarima = forecast(model_sarima, steps_ahead)\n",
    "values = forec_sarima.expected_value\n",
    "\n",
    "# model = auto_arima(prices[end-100:end])\n",
    "# fit!(model)\n",
    "# print(model)\n",
    "# forec = forecast(model, steps_ahead)\n",
    "# plt_auto = plot(model, forec; title = \"AutoARIMA\", label = \"\");\n",
    "# plt_sarima = plot(model_sarima, forec_sarima; title = \"SARIMA\", label = \"\");\n",
    "# plot(plt_sarima)\n",
    "forecast_array = []\n",
    "for i in values\n",
    "    for j in i\n",
    "        push!(forecast_array, j)\n",
    "    end\n",
    "end\n",
    "plt_forecast = plot(forecast_array)\n",
    "plt_truth = plot(prices[end-steps_ahead+1:end])\n",
    "x = collect(1:steps_ahead)"
   ]
  },
  {
   "cell_type": "code",
   "execution_count": 97,
   "metadata": {},
   "outputs": [
    {
     "data": {
      "image/png": "[encoded data removed]",
      "image/svg+xml": [
       "<?xml version=\"1.0\" encoding=\"utf-8\"?>\n",
       "<svg xmlns=\"http://www.w3.org/2000/svg\" xmlns:xlink=\"http://www.w3.org/1999/xlink\" width=\"600\" height=\"400\" viewBox=\"0 0 2400 1600\">\n",
       "<defs>\n",
       "  <clipPath id=\"clip130\">\n",
       "    <rect x=\"0\" y=\"0\" width=\"2400\" height=\"1600\"/>\n",
       "  </clipPath>\n",
       "</defs>\n",
       "<path clip-path=\"url(#clip130)\" d=\"M0 1600 L2400 1600 L2400 0 L0 0  Z\" fill=\"#ffffff\" fill-rule=\"evenodd\" fill-opacity=\"1\"/>\n",
       "<defs>\n",
       "  <clipPath id=\"clip131\">\n",
       "    <rect x=\"480\" y=\"0\" width=\"1681\" height=\"1600\"/>\n",
       "  </clipPath>\n",
       "</defs>\n",
       "<path clip-path=\"url(#clip130)\" d=\"M169.607 1486.45 L2352.76 1486.45 L2352.76 47.2441 L169.607 47.2441  Z\" fill=\"#ffffff\" fill-rule=\"evenodd\" fill-opacity=\"1\"/>\n",
       "<defs>\n",
       "  <clipPath id=\"clip132\">\n",
       "    <rect x=\"169\" y=\"47\" width=\"2184\" height=\"1440\"/>\n",
       "  </clipPath>\n",
       "</defs>\n",
       "<polyline clip-path=\"url(#clip132)\" style=\"stroke:#000000; stroke-linecap:round; stroke-linejoin:round; stroke-width:2; stroke-opacity:0.1; fill:none\" points=\"664.989,1486.45 664.989,47.2441 \"/>\n",
       "<polyline clip-path=\"url(#clip132)\" style=\"stroke:#000000; stroke-linecap:round; stroke-linejoin:round; stroke-width:2; stroke-opacity:0.1; fill:none\" points=\"1206.98,1486.45 1206.98,47.2441 \"/>\n",
       "<polyline clip-path=\"url(#clip132)\" style=\"stroke:#000000; stroke-linecap:round; stroke-linejoin:round; stroke-width:2; stroke-opacity:0.1; fill:none\" points=\"1748.98,1486.45 1748.98,47.2441 \"/>\n",
       "<polyline clip-path=\"url(#clip132)\" style=\"stroke:#000000; stroke-linecap:round; stroke-linejoin:round; stroke-width:2; stroke-opacity:0.1; fill:none\" points=\"2290.97,1486.45 2290.97,47.2441 \"/>\n",
       "<polyline clip-path=\"url(#clip130)\" style=\"stroke:#000000; stroke-linecap:round; stroke-linejoin:round; stroke-width:4; stroke-opacity:1; fill:none\" points=\"169.607,1486.45 2352.76,1486.45 \"/>\n",
       "<polyline clip-path=\"url(#clip130)\" style=\"stroke:#000000; stroke-linecap:round; stroke-linejoin:round; stroke-width:4; stroke-opacity:1; fill:none\" points=\"664.989,1486.45 664.989,1467.55 \"/>\n",
       "<polyline clip-path=\"url(#clip130)\" style=\"stroke:#000000; stroke-linecap:round; stroke-linejoin:round; stroke-width:4; stroke-opacity:1; fill:none\" points=\"1206.98,1486.45 1206.98,1467.55 \"/>\n",
       "<polyline clip-path=\"url(#clip130)\" style=\"stroke:#000000; stroke-linecap:round; stroke-linejoin:round; stroke-width:4; stroke-opacity:1; fill:none\" points=\"1748.98,1486.45 1748.98,1467.55 \"/>\n",
       "<polyline clip-path=\"url(#clip130)\" style=\"stroke:#000000; stroke-linecap:round; stroke-linejoin:round; stroke-width:4; stroke-opacity:1; fill:none\" points=\"2290.97,1486.45 2290.97,1467.55 \"/>\n",
       "<path clip-path=\"url(#clip130)\" d=\"M655.267 1514.29 L673.623 1514.29 L673.623 1518.22 L659.549 1518.22 L659.549 1526.7 Q660.568 1526.35 661.586 1526.19 Q662.605 1526 663.623 1526 Q669.41 1526 672.79 1529.17 Q676.17 1532.34 676.17 1537.76 Q676.17 1543.34 672.697 1546.44 Q669.225 1549.52 662.906 1549.52 Q660.73 1549.52 658.461 1549.15 Q656.216 1548.78 653.809 1548.04 L653.809 1543.34 Q655.892 1544.47 658.114 1545.03 Q660.336 1545.58 662.813 1545.58 Q666.818 1545.58 669.156 1543.48 Q671.494 1541.37 671.494 1537.76 Q671.494 1534.15 669.156 1532.04 Q666.818 1529.94 662.813 1529.94 Q660.938 1529.94 659.063 1530.35 Q657.211 1530.77 655.267 1531.65 L655.267 1514.29 Z\" fill=\"#000000\" fill-rule=\"nonzero\" fill-opacity=\"1\" /><path clip-path=\"url(#clip130)\" d=\"M1181.67 1544.91 L1189.31 1544.91 L1189.31 1518.55 L1181 1520.21 L1181 1515.95 L1189.26 1514.29 L1193.94 1514.29 L1193.94 1544.91 L1201.58 1544.91 L1201.58 1548.85 L1181.67 1548.85 L1181.67 1544.91 Z\" fill=\"#000000\" fill-rule=\"nonzero\" fill-opacity=\"1\" /><path clip-path=\"url(#clip130)\" d=\"M1221.02 1517.37 Q1217.41 1517.37 1215.58 1520.93 Q1213.78 1524.47 1213.78 1531.6 Q1213.78 1538.71 1215.58 1542.27 Q1217.41 1545.82 1221.02 1545.82 Q1224.66 1545.82 1226.46 1542.27 Q1228.29 1538.71 1228.29 1531.6 Q1228.29 1524.47 1226.46 1520.93 Q1224.66 1517.37 1221.02 1517.37 M1221.02 1513.66 Q1226.83 1513.66 1229.89 1518.27 Q1232.97 1522.85 1232.97 1531.6 Q1232.97 1540.33 1229.89 1544.94 Q1226.83 1549.52 1221.02 1549.52 Q1215.21 1549.52 1212.13 1544.94 Q1209.08 1540.33 1209.08 1531.6 Q1209.08 1522.85 1212.13 1518.27 Q1215.21 1513.66 1221.02 1513.66 Z\" fill=\"#000000\" fill-rule=\"nonzero\" fill-opacity=\"1\" /><path clip-path=\"url(#clip130)\" d=\"M1724.16 1544.91 L1731.8 1544.91 L1731.8 1518.55 L1723.49 1520.21 L1723.49 1515.95 L1731.75 1514.29 L1736.43 1514.29 L1736.43 1544.91 L1744.07 1544.91 L1744.07 1548.85 L1724.16 1548.85 L1724.16 1544.91 Z\" fill=\"#000000\" fill-rule=\"nonzero\" fill-opacity=\"1\" /><path clip-path=\"url(#clip130)\" d=\"M1753.56 1514.29 L1771.92 1514.29 L1771.92 1518.22 L1757.84 1518.22 L1757.84 1526.7 Q1758.86 1526.35 1759.88 1526.19 Q1760.9 1526 1761.92 1526 Q1767.7 1526 1771.08 1529.17 Q1774.46 1532.34 1774.46 1537.76 Q1774.46 1543.34 1770.99 1546.44 Q1767.52 1549.52 1761.2 1549.52 Q1759.02 1549.52 1756.75 1549.15 Q1754.51 1548.78 1752.1 1548.04 L1752.1 1543.34 Q1754.18 1544.47 1756.41 1545.03 Q1758.63 1545.58 1761.11 1545.58 Q1765.11 1545.58 1767.45 1543.48 Q1769.79 1541.37 1769.79 1537.76 Q1769.79 1534.15 1767.45 1532.04 Q1765.11 1529.94 1761.11 1529.94 Q1759.23 1529.94 1757.36 1530.35 Q1755.5 1530.77 1753.56 1531.65 L1753.56 1514.29 Z\" fill=\"#000000\" fill-rule=\"nonzero\" fill-opacity=\"1\" /><path clip-path=\"url(#clip130)\" d=\"M2269.74 1544.91 L2286.06 1544.91 L2286.06 1548.85 L2264.12 1548.85 L2264.12 1544.91 Q2266.78 1542.16 2271.36 1537.53 Q2275.97 1532.88 2277.15 1531.53 Q2279.39 1529.01 2280.27 1527.27 Q2281.18 1525.51 2281.18 1523.82 Q2281.18 1521.07 2279.23 1519.33 Q2277.31 1517.6 2274.21 1517.6 Q2272.01 1517.6 2269.56 1518.36 Q2267.13 1519.13 2264.35 1520.68 L2264.35 1515.95 Q2267.17 1514.82 2269.63 1514.24 Q2272.08 1513.66 2274.12 1513.66 Q2279.49 1513.66 2282.68 1516.35 Q2285.88 1519.03 2285.88 1523.52 Q2285.88 1525.65 2285.07 1527.57 Q2284.28 1529.47 2282.17 1532.07 Q2281.59 1532.74 2278.49 1535.95 Q2275.39 1539.15 2269.74 1544.91 Z\" fill=\"#000000\" fill-rule=\"nonzero\" fill-opacity=\"1\" /><path clip-path=\"url(#clip130)\" d=\"M2305.88 1517.37 Q2302.26 1517.37 2300.44 1520.93 Q2298.63 1524.47 2298.63 1531.6 Q2298.63 1538.71 2300.44 1542.27 Q2302.26 1545.82 2305.88 1545.82 Q2309.51 1545.82 2311.32 1542.27 Q2313.14 1538.71 2313.14 1531.6 Q2313.14 1524.47 2311.32 1520.93 Q2309.51 1517.37 2305.88 1517.37 M2305.88 1513.66 Q2311.69 1513.66 2314.74 1518.27 Q2317.82 1522.85 2317.82 1531.6 Q2317.82 1540.33 2314.74 1544.94 Q2311.69 1549.52 2305.88 1549.52 Q2300.07 1549.52 2296.99 1544.94 Q2293.93 1540.33 2293.93 1531.6 Q2293.93 1522.85 2296.99 1518.27 Q2300.07 1513.66 2305.88 1513.66 Z\" fill=\"#000000\" fill-rule=\"nonzero\" fill-opacity=\"1\" /><polyline clip-path=\"url(#clip132)\" style=\"stroke:#000000; stroke-linecap:round; stroke-linejoin:round; stroke-width:2; stroke-opacity:0.1; fill:none\" points=\"169.607,1326.25 2352.76,1326.25 \"/>\n",
       "<polyline clip-path=\"url(#clip132)\" style=\"stroke:#000000; stroke-linecap:round; stroke-linejoin:round; stroke-width:2; stroke-opacity:0.1; fill:none\" points=\"169.607,1142 2352.76,1142 \"/>\n",
       "<polyline clip-path=\"url(#clip132)\" style=\"stroke:#000000; stroke-linecap:round; stroke-linejoin:round; stroke-width:2; stroke-opacity:0.1; fill:none\" points=\"169.607,957.743 2352.76,957.743 \"/>\n",
       "<polyline clip-path=\"url(#clip132)\" style=\"stroke:#000000; stroke-linecap:round; stroke-linejoin:round; stroke-width:2; stroke-opacity:0.1; fill:none\" points=\"169.607,773.49 2352.76,773.49 \"/>\n",
       "<polyline clip-path=\"url(#clip132)\" style=\"stroke:#000000; stroke-linecap:round; stroke-linejoin:round; stroke-width:2; stroke-opacity:0.1; fill:none\" points=\"169.607,589.237 2352.76,589.237 \"/>\n",
       "<polyline clip-path=\"url(#clip132)\" style=\"stroke:#000000; stroke-linecap:round; stroke-linejoin:round; stroke-width:2; stroke-opacity:0.1; fill:none\" points=\"169.607,404.984 2352.76,404.984 \"/>\n",
       "<polyline clip-path=\"url(#clip132)\" style=\"stroke:#000000; stroke-linecap:round; stroke-linejoin:round; stroke-width:2; stroke-opacity:0.1; fill:none\" points=\"169.607,220.731 2352.76,220.731 \"/>\n",
       "<polyline clip-path=\"url(#clip130)\" style=\"stroke:#000000; stroke-linecap:round; stroke-linejoin:round; stroke-width:4; stroke-opacity:1; fill:none\" points=\"169.607,1486.45 169.607,47.2441 \"/>\n",
       "<polyline clip-path=\"url(#clip130)\" style=\"stroke:#000000; stroke-linecap:round; stroke-linejoin:round; stroke-width:4; stroke-opacity:1; fill:none\" points=\"169.607,1326.25 188.505,1326.25 \"/>\n",
       "<polyline clip-path=\"url(#clip130)\" style=\"stroke:#000000; stroke-linecap:round; stroke-linejoin:round; stroke-width:4; stroke-opacity:1; fill:none\" points=\"169.607,1142 188.505,1142 \"/>\n",
       "<polyline clip-path=\"url(#clip130)\" style=\"stroke:#000000; stroke-linecap:round; stroke-linejoin:round; stroke-width:4; stroke-opacity:1; fill:none\" points=\"169.607,957.743 188.505,957.743 \"/>\n",
       "<polyline clip-path=\"url(#clip130)\" style=\"stroke:#000000; stroke-linecap:round; stroke-linejoin:round; stroke-width:4; stroke-opacity:1; fill:none\" points=\"169.607,773.49 188.505,773.49 \"/>\n",
       "<polyline clip-path=\"url(#clip130)\" style=\"stroke:#000000; stroke-linecap:round; stroke-linejoin:round; stroke-width:4; stroke-opacity:1; fill:none\" points=\"169.607,589.237 188.505,589.237 \"/>\n",
       "<polyline clip-path=\"url(#clip130)\" style=\"stroke:#000000; stroke-linecap:round; stroke-linejoin:round; stroke-width:4; stroke-opacity:1; fill:none\" points=\"169.607,404.984 188.505,404.984 \"/>\n",
       "<polyline clip-path=\"url(#clip130)\" style=\"stroke:#000000; stroke-linecap:round; stroke-linejoin:round; stroke-width:4; stroke-opacity:1; fill:none\" points=\"169.607,220.731 188.505,220.731 \"/>\n",
       "<path clip-path=\"url(#clip130)\" d=\"M53.7467 1339.59 L61.3856 1339.59 L61.3856 1313.23 L53.0754 1314.9 L53.0754 1310.64 L61.3393 1308.97 L66.0152 1308.97 L66.0152 1339.59 L73.654 1339.59 L73.654 1343.53 L53.7467 1343.53 L53.7467 1339.59 Z\" fill=\"#000000\" fill-rule=\"nonzero\" fill-opacity=\"1\" /><path clip-path=\"url(#clip130)\" d=\"M95.9456 1313.04 L84.1401 1331.49 L95.9456 1331.49 L95.9456 1313.04 M94.7187 1308.97 L100.598 1308.97 L100.598 1331.49 L105.529 1331.49 L105.529 1335.38 L100.598 1335.38 L100.598 1343.53 L95.9456 1343.53 L95.9456 1335.38 L80.3438 1335.38 L80.3438 1330.87 L94.7187 1308.97 Z\" fill=\"#000000\" fill-rule=\"nonzero\" fill-opacity=\"1\" /><path clip-path=\"url(#clip130)\" d=\"M117.288 1339.59 L133.607 1339.59 L133.607 1343.53 L111.663 1343.53 L111.663 1339.59 Q114.325 1336.84 118.908 1332.21 Q123.515 1327.56 124.695 1326.21 Q126.941 1323.69 127.82 1321.96 Q128.723 1320.2 128.723 1318.51 Q128.723 1315.75 126.779 1314.02 Q124.857 1312.28 121.756 1312.28 Q119.557 1312.28 117.103 1313.04 Q114.672 1313.81 111.895 1315.36 L111.895 1310.64 Q114.719 1309.5 117.172 1308.92 Q119.626 1308.34 121.663 1308.34 Q127.033 1308.34 130.228 1311.03 Q133.422 1313.71 133.422 1318.21 Q133.422 1320.34 132.612 1322.26 Q131.825 1324.15 129.719 1326.75 Q129.14 1327.42 126.038 1330.64 Q122.936 1333.83 117.288 1339.59 Z\" fill=\"#000000\" fill-rule=\"nonzero\" fill-opacity=\"1\" /><path clip-path=\"url(#clip130)\" d=\"M52.7977 1155.34 L60.4365 1155.34 L60.4365 1128.98 L52.1264 1130.64 L52.1264 1126.38 L60.3902 1124.72 L65.0661 1124.72 L65.0661 1155.34 L72.705 1155.34 L72.705 1159.28 L52.7977 1159.28 L52.7977 1155.34 Z\" fill=\"#000000\" fill-rule=\"nonzero\" fill-opacity=\"1\" /><path clip-path=\"url(#clip130)\" d=\"M94.9965 1128.79 L83.191 1147.24 L94.9965 1147.24 L94.9965 1128.79 M93.7697 1124.72 L99.6493 1124.72 L99.6493 1147.24 L104.58 1147.24 L104.58 1151.13 L99.6493 1151.13 L99.6493 1159.28 L94.9965 1159.28 L94.9965 1151.13 L79.3948 1151.13 L79.3948 1146.61 L93.7697 1124.72 Z\" fill=\"#000000\" fill-rule=\"nonzero\" fill-opacity=\"1\" /><path clip-path=\"url(#clip130)\" d=\"M126.478 1140.64 Q129.834 1141.36 131.709 1143.63 Q133.607 1145.9 133.607 1149.23 Q133.607 1154.35 130.089 1157.15 Q126.57 1159.95 120.089 1159.95 Q117.913 1159.95 115.598 1159.51 Q113.307 1159.09 110.853 1158.23 L110.853 1153.72 Q112.797 1154.86 115.112 1155.43 Q117.427 1156.01 119.95 1156.01 Q124.348 1156.01 126.64 1154.28 Q128.955 1152.54 128.955 1149.23 Q128.955 1146.17 126.802 1144.46 Q124.672 1142.73 120.853 1142.73 L116.825 1142.73 L116.825 1138.88 L121.038 1138.88 Q124.487 1138.88 126.316 1137.52 Q128.144 1136.13 128.144 1133.54 Q128.144 1130.87 126.246 1129.46 Q124.371 1128.03 120.853 1128.03 Q118.932 1128.03 116.733 1128.44 Q114.533 1128.86 111.895 1129.74 L111.895 1125.57 Q114.557 1124.83 116.871 1124.46 Q119.209 1124.09 121.27 1124.09 Q126.594 1124.09 129.695 1126.52 Q132.797 1128.93 132.797 1133.05 Q132.797 1135.92 131.154 1137.91 Q129.51 1139.88 126.478 1140.64 Z\" fill=\"#000000\" fill-rule=\"nonzero\" fill-opacity=\"1\" /><path clip-path=\"url(#clip130)\" d=\"M51.6634 971.088 L59.3023 971.088 L59.3023 944.723 L50.9921 946.389 L50.9921 942.13 L59.256 940.463 L63.9319 940.463 L63.9319 971.088 L71.5707 971.088 L71.5707 975.023 L51.6634 975.023 L51.6634 971.088 Z\" fill=\"#000000\" fill-rule=\"nonzero\" fill-opacity=\"1\" /><path clip-path=\"url(#clip130)\" d=\"M93.8623 944.537 L82.0568 962.986 L93.8623 962.986 L93.8623 944.537 M92.6354 940.463 L98.515 940.463 L98.515 962.986 L103.446 962.986 L103.446 966.875 L98.515 966.875 L98.515 975.023 L93.8623 975.023 L93.8623 966.875 L78.2605 966.875 L78.2605 962.361 L92.6354 940.463 Z\" fill=\"#000000\" fill-rule=\"nonzero\" fill-opacity=\"1\" /><path clip-path=\"url(#clip130)\" d=\"M124.024 944.537 L112.219 962.986 L124.024 962.986 L124.024 944.537 M122.797 940.463 L128.677 940.463 L128.677 962.986 L133.607 962.986 L133.607 966.875 L128.677 966.875 L128.677 975.023 L124.024 975.023 L124.024 966.875 L108.422 966.875 L108.422 962.361 L122.797 940.463 Z\" fill=\"#000000\" fill-rule=\"nonzero\" fill-opacity=\"1\" /><path clip-path=\"url(#clip130)\" d=\"M53.1449 786.835 L60.7837 786.835 L60.7837 760.47 L52.4736 762.136 L52.4736 757.877 L60.7374 756.21 L65.4133 756.21 L65.4133 786.835 L73.0522 786.835 L73.0522 790.77 L53.1449 790.77 L53.1449 786.835 Z\" fill=\"#000000\" fill-rule=\"nonzero\" fill-opacity=\"1\" /><path clip-path=\"url(#clip130)\" d=\"M95.3437 760.284 L83.5382 778.733 L95.3437 778.733 L95.3437 760.284 M94.1169 756.21 L99.9965 756.21 L99.9965 778.733 L104.927 778.733 L104.927 782.622 L99.9965 782.622 L99.9965 790.77 L95.3437 790.77 L95.3437 782.622 L79.742 782.622 L79.742 778.108 L94.1169 756.21 Z\" fill=\"#000000\" fill-rule=\"nonzero\" fill-opacity=\"1\" /><path clip-path=\"url(#clip130)\" d=\"M112.705 756.21 L131.061 756.21 L131.061 760.146 L116.987 760.146 L116.987 768.618 Q118.006 768.271 119.024 768.108 Q120.043 767.923 121.061 767.923 Q126.848 767.923 130.228 771.095 Q133.607 774.266 133.607 779.683 Q133.607 785.261 130.135 788.363 Q126.663 791.442 120.344 791.442 Q118.168 791.442 115.899 791.071 Q113.654 790.701 111.246 789.96 L111.246 785.261 Q113.33 786.395 115.552 786.951 Q117.774 787.507 120.251 787.507 Q124.256 787.507 126.594 785.4 Q128.932 783.294 128.932 779.683 Q128.932 776.071 126.594 773.965 Q124.256 771.858 120.251 771.858 Q118.376 771.858 116.501 772.275 Q114.649 772.692 112.705 773.571 L112.705 756.21 Z\" fill=\"#000000\" fill-rule=\"nonzero\" fill-opacity=\"1\" /><path clip-path=\"url(#clip130)\" d=\"M51.9875 602.582 L59.6263 602.582 L59.6263 576.217 L51.3162 577.883 L51.3162 573.624 L59.58 571.957 L64.2559 571.957 L64.2559 602.582 L71.8948 602.582 L71.8948 606.517 L51.9875 606.517 L51.9875 602.582 Z\" fill=\"#000000\" fill-rule=\"nonzero\" fill-opacity=\"1\" /><path clip-path=\"url(#clip130)\" d=\"M94.1863 576.031 L82.3808 594.48 L94.1863 594.48 L94.1863 576.031 M92.9595 571.957 L98.8391 571.957 L98.8391 594.48 L103.77 594.48 L103.77 598.369 L98.8391 598.369 L98.8391 606.517 L94.1863 606.517 L94.1863 598.369 L78.5846 598.369 L78.5846 593.855 L92.9595 571.957 Z\" fill=\"#000000\" fill-rule=\"nonzero\" fill-opacity=\"1\" /><path clip-path=\"url(#clip130)\" d=\"M122.08 587.374 Q118.932 587.374 117.08 589.527 Q115.251 591.68 115.251 595.43 Q115.251 599.156 117.08 601.332 Q118.932 603.485 122.08 603.485 Q125.228 603.485 127.057 601.332 Q128.908 599.156 128.908 595.43 Q128.908 591.68 127.057 589.527 Q125.228 587.374 122.08 587.374 M131.362 572.721 L131.362 576.981 Q129.603 576.147 127.797 575.707 Q126.015 575.268 124.256 575.268 Q119.626 575.268 117.172 578.393 Q114.742 581.518 114.395 587.837 Q115.76 585.823 117.82 584.758 Q119.881 583.67 122.357 583.67 Q127.566 583.67 130.575 586.842 Q133.607 589.99 133.607 595.43 Q133.607 600.754 130.459 603.971 Q127.311 607.189 122.08 607.189 Q116.084 607.189 112.913 602.605 Q109.742 597.999 109.742 589.272 Q109.742 581.078 113.631 576.217 Q117.52 571.332 124.07 571.332 Q125.83 571.332 127.612 571.68 Q129.418 572.027 131.362 572.721 Z\" fill=\"#000000\" fill-rule=\"nonzero\" fill-opacity=\"1\" /><path clip-path=\"url(#clip130)\" d=\"M53.0523 418.329 L60.6911 418.329 L60.6911 391.964 L52.381 393.63 L52.381 389.371 L60.6449 387.704 L65.3208 387.704 L65.3208 418.329 L72.9596 418.329 L72.9596 422.264 L53.0523 422.264 L53.0523 418.329 Z\" fill=\"#000000\" fill-rule=\"nonzero\" fill-opacity=\"1\" /><path clip-path=\"url(#clip130)\" d=\"M95.2511 391.778 L83.4457 410.227 L95.2511 410.227 L95.2511 391.778 M94.0243 387.704 L99.9039 387.704 L99.9039 410.227 L104.834 410.227 L104.834 414.116 L99.9039 414.116 L99.9039 422.264 L95.2511 422.264 L95.2511 414.116 L79.6494 414.116 L79.6494 409.602 L94.0243 387.704 Z\" fill=\"#000000\" fill-rule=\"nonzero\" fill-opacity=\"1\" /><path clip-path=\"url(#clip130)\" d=\"M111.385 387.704 L133.607 387.704 L133.607 389.695 L121.061 422.264 L116.177 422.264 L127.982 391.64 L111.385 391.64 L111.385 387.704 Z\" fill=\"#000000\" fill-rule=\"nonzero\" fill-opacity=\"1\" /><path clip-path=\"url(#clip130)\" d=\"M52.2421 234.076 L59.881 234.076 L59.881 207.711 L51.5708 209.377 L51.5708 205.118 L59.8347 203.451 L64.5106 203.451 L64.5106 234.076 L72.1494 234.076 L72.1494 238.011 L52.2421 238.011 L52.2421 234.076 Z\" fill=\"#000000\" fill-rule=\"nonzero\" fill-opacity=\"1\" /><path clip-path=\"url(#clip130)\" d=\"M94.441 207.525 L82.6355 225.974 L94.441 225.974 L94.441 207.525 M93.2141 203.451 L99.0937 203.451 L99.0937 225.974 L104.024 225.974 L104.024 229.863 L99.0937 229.863 L99.0937 238.011 L94.441 238.011 L94.441 229.863 L78.8392 229.863 L78.8392 225.349 L93.2141 203.451 Z\" fill=\"#000000\" fill-rule=\"nonzero\" fill-opacity=\"1\" /><path clip-path=\"url(#clip130)\" d=\"M121.756 221.599 Q118.422 221.599 116.501 223.382 Q114.603 225.164 114.603 228.289 Q114.603 231.414 116.501 233.197 Q118.422 234.979 121.756 234.979 Q125.089 234.979 127.01 233.197 Q128.932 231.391 128.932 228.289 Q128.932 225.164 127.01 223.382 Q125.112 221.599 121.756 221.599 M117.08 219.609 Q114.07 218.868 112.381 216.808 Q110.714 214.748 110.714 211.785 Q110.714 207.641 113.654 205.234 Q116.617 202.826 121.756 202.826 Q126.918 202.826 129.857 205.234 Q132.797 207.641 132.797 211.785 Q132.797 214.748 131.107 216.808 Q129.441 218.868 126.455 219.609 Q129.834 220.396 131.709 222.687 Q133.607 224.979 133.607 228.289 Q133.607 233.312 130.529 235.998 Q127.473 238.683 121.756 238.683 Q116.038 238.683 112.959 235.998 Q109.904 233.312 109.904 228.289 Q109.904 224.979 111.802 222.687 Q113.7 220.396 117.08 219.609 M115.367 212.225 Q115.367 214.91 117.033 216.414 Q118.723 217.919 121.756 217.919 Q124.765 217.919 126.455 216.414 Q128.168 214.91 128.168 212.225 Q128.168 209.539 126.455 208.035 Q124.765 206.53 121.756 206.53 Q118.723 206.53 117.033 208.035 Q115.367 209.539 115.367 212.225 Z\" fill=\"#000000\" fill-rule=\"nonzero\" fill-opacity=\"1\" /><polyline clip-path=\"url(#clip132)\" style=\"stroke:#009af9; stroke-linecap:round; stroke-linejoin:round; stroke-width:4; stroke-opacity:1; fill:none\" points=\"231.395,716.4 339.793,718.655 448.192,683.211 556.591,792.73 664.989,1175.54 773.388,905.017 881.786,1370.83 990.185,1190.66 1098.58,1413.51 1206.98,1059.88 1315.38,803.842 1423.78,685.025 1532.18,886.993 1640.58,1308.89 1748.98,1153.97 1857.37,1445.72 1965.77,892.587 2074.17,669.889 2182.57,399.646 2290.97,216.692 \"/>\n",
       "<polyline clip-path=\"url(#clip132)\" style=\"stroke:#e26f46; stroke-linecap:round; stroke-linejoin:round; stroke-width:4; stroke-opacity:1; fill:none\" points=\"231.395,1230.35 339.793,995.24 448.192,214.006 556.591,87.9763 664.989,201.2 773.388,96.3601 881.786,459.432 990.185,778.925 1098.58,337.087 1206.98,803.247 1315.38,1178.3 1423.78,1252.27 1532.18,917.115 1640.58,414.38 1748.98,378.728 1857.37,208.94 1965.77,506.692 2074.17,496.282 2182.57,588.776 2290.97,832.543 \"/>\n",
       "<path clip-path=\"url(#clip130)\" d=\"M1866.86 1438.47 L2279.98 1438.47 L2279.98 1282.95 L1866.86 1282.95  Z\" fill=\"#ffffff\" fill-rule=\"evenodd\" fill-opacity=\"1\"/>\n",
       "<polyline clip-path=\"url(#clip130)\" style=\"stroke:#000000; stroke-linecap:round; stroke-linejoin:round; stroke-width:4; stroke-opacity:1; fill:none\" points=\"1866.86,1438.47 2279.98,1438.47 2279.98,1282.95 1866.86,1282.95 1866.86,1438.47 \"/>\n",
       "<polyline clip-path=\"url(#clip130)\" style=\"stroke:#009af9; stroke-linecap:round; stroke-linejoin:round; stroke-width:4; stroke-opacity:1; fill:none\" points=\"1891.11,1334.79 2036.66,1334.79 \"/>\n",
       "<path clip-path=\"url(#clip130)\" d=\"M2060.91 1317.51 L2080.77 1317.51 L2080.77 1321.45 L2065.59 1321.45 L2065.59 1331.63 L2079.29 1331.63 L2079.29 1335.57 L2065.59 1335.57 L2065.59 1352.07 L2060.91 1352.07 L2060.91 1317.51 Z\" fill=\"#000000\" fill-rule=\"nonzero\" fill-opacity=\"1\" /><path clip-path=\"url(#clip130)\" d=\"M2096.35 1329.13 Q2092.93 1329.13 2090.94 1331.82 Q2088.95 1334.48 2088.95 1339.13 Q2088.95 1343.79 2090.91 1346.47 Q2092.9 1349.13 2096.35 1349.13 Q2099.76 1349.13 2101.75 1346.45 Q2103.74 1343.76 2103.74 1339.13 Q2103.74 1334.53 2101.75 1331.84 Q2099.76 1329.13 2096.35 1329.13 M2096.35 1325.52 Q2101.91 1325.52 2105.08 1329.13 Q2108.25 1332.75 2108.25 1339.13 Q2108.25 1345.5 2105.08 1349.13 Q2101.91 1352.75 2096.35 1352.75 Q2090.77 1352.75 2087.6 1349.13 Q2084.45 1345.5 2084.45 1339.13 Q2084.45 1332.75 2087.6 1329.13 Q2090.77 1325.52 2096.35 1325.52 Z\" fill=\"#000000\" fill-rule=\"nonzero\" fill-opacity=\"1\" /><path clip-path=\"url(#clip130)\" d=\"M2130.33 1330.13 Q2129.62 1329.71 2128.76 1329.53 Q2127.93 1329.32 2126.91 1329.32 Q2123.3 1329.32 2121.35 1331.68 Q2119.43 1334.02 2119.43 1338.42 L2119.43 1352.07 L2115.15 1352.07 L2115.15 1326.15 L2119.43 1326.15 L2119.43 1330.18 Q2120.77 1327.82 2122.93 1326.68 Q2125.08 1325.52 2128.16 1325.52 Q2128.6 1325.52 2129.13 1325.59 Q2129.66 1325.64 2130.31 1325.76 L2130.33 1330.13 Z\" fill=\"#000000\" fill-rule=\"nonzero\" fill-opacity=\"1\" /><path clip-path=\"url(#clip130)\" d=\"M2155.94 1338.05 L2155.94 1340.13 L2136.35 1340.13 Q2136.63 1344.53 2138.99 1346.84 Q2141.38 1349.13 2145.61 1349.13 Q2148.07 1349.13 2150.36 1348.53 Q2152.67 1347.93 2154.94 1346.73 L2154.94 1350.75 Q2152.65 1351.73 2150.24 1352.24 Q2147.83 1352.75 2145.36 1352.75 Q2139.15 1352.75 2135.52 1349.13 Q2131.91 1345.52 2131.91 1339.37 Q2131.91 1333 2135.33 1329.27 Q2138.78 1325.52 2144.62 1325.52 Q2149.85 1325.52 2152.88 1328.9 Q2155.94 1332.26 2155.94 1338.05 M2151.68 1336.8 Q2151.63 1333.3 2149.71 1331.22 Q2147.81 1329.13 2144.66 1329.13 Q2141.1 1329.13 2138.95 1331.15 Q2136.82 1333.16 2136.49 1336.82 L2151.68 1336.8 Z\" fill=\"#000000\" fill-rule=\"nonzero\" fill-opacity=\"1\" /><path clip-path=\"url(#clip130)\" d=\"M2181.58 1327.14 L2181.58 1331.13 Q2179.78 1330.13 2177.95 1329.64 Q2176.14 1329.13 2174.29 1329.13 Q2170.15 1329.13 2167.86 1331.77 Q2165.57 1334.39 2165.57 1339.13 Q2165.57 1343.88 2167.86 1346.52 Q2170.15 1349.13 2174.29 1349.13 Q2176.14 1349.13 2177.95 1348.65 Q2179.78 1348.14 2181.58 1347.14 L2181.58 1351.08 Q2179.8 1351.91 2177.88 1352.33 Q2175.98 1352.75 2173.83 1352.75 Q2167.97 1352.75 2164.52 1349.07 Q2161.07 1345.38 2161.07 1339.13 Q2161.07 1332.79 2164.55 1329.16 Q2168.04 1325.52 2174.11 1325.52 Q2176.07 1325.52 2177.95 1325.94 Q2179.82 1326.33 2181.58 1327.14 Z\" fill=\"#000000\" fill-rule=\"nonzero\" fill-opacity=\"1\" /><path clip-path=\"url(#clip130)\" d=\"M2200.77 1339.04 Q2195.61 1339.04 2193.62 1340.22 Q2191.63 1341.4 2191.63 1344.25 Q2191.63 1346.52 2193.11 1347.86 Q2194.62 1349.18 2197.19 1349.18 Q2200.73 1349.18 2202.86 1346.68 Q2205.01 1344.16 2205.01 1339.99 L2205.01 1339.04 L2200.77 1339.04 M2209.27 1337.28 L2209.27 1352.07 L2205.01 1352.07 L2205.01 1348.14 Q2203.55 1350.5 2201.38 1351.63 Q2199.2 1352.75 2196.05 1352.75 Q2192.07 1352.75 2189.71 1350.52 Q2187.37 1348.28 2187.37 1344.53 Q2187.37 1340.15 2190.29 1337.93 Q2193.23 1335.71 2199.04 1335.71 L2205.01 1335.71 L2205.01 1335.29 Q2205.01 1332.35 2203.07 1330.76 Q2201.14 1329.13 2197.65 1329.13 Q2195.43 1329.13 2193.32 1329.67 Q2191.21 1330.2 2189.27 1331.26 L2189.27 1327.33 Q2191.61 1326.43 2193.81 1325.99 Q2196.01 1325.52 2198.09 1325.52 Q2203.71 1325.52 2206.49 1328.44 Q2209.27 1331.36 2209.27 1337.28 Z\" fill=\"#000000\" fill-rule=\"nonzero\" fill-opacity=\"1\" /><path clip-path=\"url(#clip130)\" d=\"M2234.57 1326.91 L2234.57 1330.94 Q2232.76 1330.01 2230.82 1329.55 Q2228.88 1329.09 2226.79 1329.09 Q2223.62 1329.09 2222.02 1330.06 Q2220.45 1331.03 2220.45 1332.98 Q2220.45 1334.46 2221.58 1335.32 Q2222.72 1336.15 2226.14 1336.91 L2227.6 1337.24 Q2232.14 1338.21 2234.04 1339.99 Q2235.96 1341.75 2235.96 1344.92 Q2235.96 1348.53 2233.09 1350.64 Q2230.24 1352.75 2225.24 1352.75 Q2223.16 1352.75 2220.89 1352.33 Q2218.64 1351.94 2216.14 1351.13 L2216.14 1346.73 Q2218.51 1347.95 2220.8 1348.58 Q2223.09 1349.18 2225.33 1349.18 Q2228.34 1349.18 2229.96 1348.16 Q2231.58 1347.12 2231.58 1345.25 Q2231.58 1343.51 2230.4 1342.58 Q2229.25 1341.66 2225.29 1340.8 L2223.81 1340.45 Q2219.85 1339.62 2218.09 1337.91 Q2216.33 1336.17 2216.33 1333.16 Q2216.33 1329.51 2218.92 1327.51 Q2221.51 1325.52 2226.28 1325.52 Q2228.64 1325.52 2230.73 1325.87 Q2232.81 1326.22 2234.57 1326.91 Z\" fill=\"#000000\" fill-rule=\"nonzero\" fill-opacity=\"1\" /><path clip-path=\"url(#clip130)\" d=\"M2246.95 1318.79 L2246.95 1326.15 L2255.73 1326.15 L2255.73 1329.46 L2246.95 1329.46 L2246.95 1343.53 Q2246.95 1346.7 2247.81 1347.61 Q2248.69 1348.51 2251.35 1348.51 L2255.73 1348.51 L2255.73 1352.07 L2251.35 1352.07 Q2246.42 1352.07 2244.55 1350.25 Q2242.67 1348.39 2242.67 1343.53 L2242.67 1329.46 L2239.55 1329.46 L2239.55 1326.15 L2242.67 1326.15 L2242.67 1318.79 L2246.95 1318.79 Z\" fill=\"#000000\" fill-rule=\"nonzero\" fill-opacity=\"1\" /><polyline clip-path=\"url(#clip130)\" style=\"stroke:#e26f46; stroke-linecap:round; stroke-linejoin:round; stroke-width:4; stroke-opacity:1; fill:none\" points=\"1891.11,1386.63 2036.66,1386.63 \"/>\n",
       "<path clip-path=\"url(#clip130)\" d=\"M2060.91 1369.35 L2090.15 1369.35 L2090.15 1373.29 L2077.88 1373.29 L2077.88 1403.91 L2073.18 1403.91 L2073.18 1373.29 L2060.91 1373.29 L2060.91 1369.35 Z\" fill=\"#000000\" fill-rule=\"nonzero\" fill-opacity=\"1\" /><path clip-path=\"url(#clip130)\" d=\"M2102.53 1381.97 Q2101.82 1381.55 2100.96 1381.37 Q2100.13 1381.16 2099.11 1381.16 Q2095.5 1381.16 2093.55 1383.52 Q2091.63 1385.86 2091.63 1390.26 L2091.63 1403.91 L2087.35 1403.91 L2087.35 1377.99 L2091.63 1377.99 L2091.63 1382.02 Q2092.97 1379.66 2095.13 1378.52 Q2097.28 1377.36 2100.36 1377.36 Q2100.8 1377.36 2101.33 1377.43 Q2101.86 1377.48 2102.51 1377.6 L2102.53 1381.97 Z\" fill=\"#000000\" fill-rule=\"nonzero\" fill-opacity=\"1\" /><path clip-path=\"url(#clip130)\" d=\"M2106.56 1393.68 L2106.56 1377.99 L2110.82 1377.99 L2110.82 1393.52 Q2110.82 1397.2 2112.26 1399.05 Q2113.69 1400.88 2116.56 1400.88 Q2120.01 1400.88 2122 1398.68 Q2124.01 1396.48 2124.01 1392.69 L2124.01 1377.99 L2128.27 1377.99 L2128.27 1403.91 L2124.01 1403.91 L2124.01 1399.93 Q2122.46 1402.29 2120.4 1403.45 Q2118.37 1404.59 2115.66 1404.59 Q2111.19 1404.59 2108.88 1401.81 Q2106.56 1399.03 2106.56 1393.68 M2117.28 1377.36 L2117.28 1377.36 Z\" fill=\"#000000\" fill-rule=\"nonzero\" fill-opacity=\"1\" /><path clip-path=\"url(#clip130)\" d=\"M2141.26 1370.63 L2141.26 1377.99 L2150.03 1377.99 L2150.03 1381.3 L2141.26 1381.3 L2141.26 1395.37 Q2141.26 1398.54 2142.12 1399.45 Q2143 1400.35 2145.66 1400.35 L2150.03 1400.35 L2150.03 1403.91 L2145.66 1403.91 Q2140.73 1403.91 2138.85 1402.09 Q2136.98 1400.23 2136.98 1395.37 L2136.98 1381.3 L2133.85 1381.3 L2133.85 1377.99 L2136.98 1377.99 L2136.98 1370.63 L2141.26 1370.63 Z\" fill=\"#000000\" fill-rule=\"nonzero\" fill-opacity=\"1\" /><path clip-path=\"url(#clip130)\" d=\"M2177.19 1388.27 L2177.19 1403.91 L2172.93 1403.91 L2172.93 1388.41 Q2172.93 1384.72 2171.49 1382.9 Q2170.06 1381.07 2167.19 1381.07 Q2163.74 1381.07 2161.75 1383.27 Q2159.76 1385.47 2159.76 1389.26 L2159.76 1403.91 L2155.47 1403.91 L2155.47 1367.9 L2159.76 1367.9 L2159.76 1382.02 Q2161.28 1379.68 2163.34 1378.52 Q2165.43 1377.36 2168.13 1377.36 Q2172.6 1377.36 2174.89 1380.14 Q2177.19 1382.9 2177.19 1388.27 Z\" fill=\"#000000\" fill-rule=\"nonzero\" fill-opacity=\"1\" /></svg>\n"
      ],
      "text/html": [
       "<?xml version=\"1.0\" encoding=\"utf-8\"?>\n",
       "<svg xmlns=\"http://www.w3.org/2000/svg\" xmlns:xlink=\"http://www.w3.org/1999/xlink\" width=\"600\" height=\"400\" viewBox=\"0 0 2400 1600\">\n",
       "<defs>\n",
       "  <clipPath id=\"clip180\">\n",
       "    <rect x=\"0\" y=\"0\" width=\"2400\" height=\"1600\"/>\n",
       "  </clipPath>\n",
       "</defs>\n",
       "<path clip-path=\"url(#clip180)\" d=\"M0 1600 L2400 1600 L2400 0 L0 0  Z\" fill=\"#ffffff\" fill-rule=\"evenodd\" fill-opacity=\"1\"/>\n",
       "<defs>\n",
       "  <clipPath id=\"clip181\">\n",
       "    <rect x=\"480\" y=\"0\" width=\"1681\" height=\"1600\"/>\n",
       "  </clipPath>\n",
       "</defs>\n",
       "<path clip-path=\"url(#clip180)\" d=\"M169.607 1486.45 L2352.76 1486.45 L2352.76 47.2441 L169.607 47.2441  Z\" fill=\"#ffffff\" fill-rule=\"evenodd\" fill-opacity=\"1\"/>\n",
       "<defs>\n",
       "  <clipPath id=\"clip182\">\n",
       "    <rect x=\"169\" y=\"47\" width=\"2184\" height=\"1440\"/>\n",
       "  </clipPath>\n",
       "</defs>\n",
       "<polyline clip-path=\"url(#clip182)\" style=\"stroke:#000000; stroke-linecap:round; stroke-linejoin:round; stroke-width:2; stroke-opacity:0.1; fill:none\" points=\"664.989,1486.45 664.989,47.2441 \"/>\n",
       "<polyline clip-path=\"url(#clip182)\" style=\"stroke:#000000; stroke-linecap:round; stroke-linejoin:round; stroke-width:2; stroke-opacity:0.1; fill:none\" points=\"1206.98,1486.45 1206.98,47.2441 \"/>\n",
       "<polyline clip-path=\"url(#clip182)\" style=\"stroke:#000000; stroke-linecap:round; stroke-linejoin:round; stroke-width:2; stroke-opacity:0.1; fill:none\" points=\"1748.98,1486.45 1748.98,47.2441 \"/>\n",
       "<polyline clip-path=\"url(#clip182)\" style=\"stroke:#000000; stroke-linecap:round; stroke-linejoin:round; stroke-width:2; stroke-opacity:0.1; fill:none\" points=\"2290.97,1486.45 2290.97,47.2441 \"/>\n",
       "<polyline clip-path=\"url(#clip180)\" style=\"stroke:#000000; stroke-linecap:round; stroke-linejoin:round; stroke-width:4; stroke-opacity:1; fill:none\" points=\"169.607,1486.45 2352.76,1486.45 \"/>\n",
       "<polyline clip-path=\"url(#clip180)\" style=\"stroke:#000000; stroke-linecap:round; stroke-linejoin:round; stroke-width:4; stroke-opacity:1; fill:none\" points=\"664.989,1486.45 664.989,1467.55 \"/>\n",
       "<polyline clip-path=\"url(#clip180)\" style=\"stroke:#000000; stroke-linecap:round; stroke-linejoin:round; stroke-width:4; stroke-opacity:1; fill:none\" points=\"1206.98,1486.45 1206.98,1467.55 \"/>\n",
       "<polyline clip-path=\"url(#clip180)\" style=\"stroke:#000000; stroke-linecap:round; stroke-linejoin:round; stroke-width:4; stroke-opacity:1; fill:none\" points=\"1748.98,1486.45 1748.98,1467.55 \"/>\n",
       "<polyline clip-path=\"url(#clip180)\" style=\"stroke:#000000; stroke-linecap:round; stroke-linejoin:round; stroke-width:4; stroke-opacity:1; fill:none\" points=\"2290.97,1486.45 2290.97,1467.55 \"/>\n",
       "<path clip-path=\"url(#clip180)\" d=\"M655.267 1514.29 L673.623 1514.29 L673.623 1518.22 L659.549 1518.22 L659.549 1526.7 Q660.568 1526.35 661.586 1526.19 Q662.605 1526 663.623 1526 Q669.41 1526 672.79 1529.17 Q676.17 1532.34 676.17 1537.76 Q676.17 1543.34 672.697 1546.44 Q669.225 1549.52 662.906 1549.52 Q660.73 1549.52 658.461 1549.15 Q656.216 1548.78 653.809 1548.04 L653.809 1543.34 Q655.892 1544.47 658.114 1545.03 Q660.336 1545.58 662.813 1545.58 Q666.818 1545.58 669.156 1543.48 Q671.494 1541.37 671.494 1537.76 Q671.494 1534.15 669.156 1532.04 Q666.818 1529.94 662.813 1529.94 Q660.938 1529.94 659.063 1530.35 Q657.211 1530.77 655.267 1531.65 L655.267 1514.29 Z\" fill=\"#000000\" fill-rule=\"nonzero\" fill-opacity=\"1\" /><path clip-path=\"url(#clip180)\" d=\"M1181.67 1544.91 L1189.31 1544.91 L1189.31 1518.55 L1181 1520.21 L1181 1515.95 L1189.26 1514.29 L1193.94 1514.29 L1193.94 1544.91 L1201.58 1544.91 L1201.58 1548.85 L1181.67 1548.85 L1181.67 1544.91 Z\" fill=\"#000000\" fill-rule=\"nonzero\" fill-opacity=\"1\" /><path clip-path=\"url(#clip180)\" d=\"M1221.02 1517.37 Q1217.41 1517.37 1215.58 1520.93 Q1213.78 1524.47 1213.78 1531.6 Q1213.78 1538.71 1215.58 1542.27 Q1217.41 1545.82 1221.02 1545.82 Q1224.66 1545.82 1226.46 1542.27 Q1228.29 1538.71 1228.29 1531.6 Q1228.29 1524.47 1226.46 1520.93 Q1224.66 1517.37 1221.02 1517.37 M1221.02 1513.66 Q1226.83 1513.66 1229.89 1518.27 Q1232.97 1522.85 1232.97 1531.6 Q1232.97 1540.33 1229.89 1544.94 Q1226.83 1549.52 1221.02 1549.52 Q1215.21 1549.52 1212.13 1544.94 Q1209.08 1540.33 1209.08 1531.6 Q1209.08 1522.85 1212.13 1518.27 Q1215.21 1513.66 1221.02 1513.66 Z\" fill=\"#000000\" fill-rule=\"nonzero\" fill-opacity=\"1\" /><path clip-path=\"url(#clip180)\" d=\"M1724.16 1544.91 L1731.8 1544.91 L1731.8 1518.55 L1723.49 1520.21 L1723.49 1515.95 L1731.75 1514.29 L1736.43 1514.29 L1736.43 1544.91 L1744.07 1544.91 L1744.07 1548.85 L1724.16 1548.85 L1724.16 1544.91 Z\" fill=\"#000000\" fill-rule=\"nonzero\" fill-opacity=\"1\" /><path clip-path=\"url(#clip180)\" d=\"M1753.56 1514.29 L1771.92 1514.29 L1771.92 1518.22 L1757.84 1518.22 L1757.84 1526.7 Q1758.86 1526.35 1759.88 1526.19 Q1760.9 1526 1761.92 1526 Q1767.7 1526 1771.08 1529.17 Q1774.46 1532.34 1774.46 1537.76 Q1774.46 1543.34 1770.99 1546.44 Q1767.52 1549.52 1761.2 1549.52 Q1759.02 1549.52 1756.75 1549.15 Q1754.51 1548.78 1752.1 1548.04 L1752.1 1543.34 Q1754.18 1544.47 1756.41 1545.03 Q1758.63 1545.58 1761.11 1545.58 Q1765.11 1545.58 1767.45 1543.48 Q1769.79 1541.37 1769.79 1537.76 Q1769.79 1534.15 1767.45 1532.04 Q1765.11 1529.94 1761.11 1529.94 Q1759.23 1529.94 1757.36 1530.35 Q1755.5 1530.77 1753.56 1531.65 L1753.56 1514.29 Z\" fill=\"#000000\" fill-rule=\"nonzero\" fill-opacity=\"1\" /><path clip-path=\"url(#clip180)\" d=\"M2269.74 1544.91 L2286.06 1544.91 L2286.06 1548.85 L2264.12 1548.85 L2264.12 1544.91 Q2266.78 1542.16 2271.36 1537.53 Q2275.97 1532.88 2277.15 1531.53 Q2279.39 1529.01 2280.27 1527.27 Q2281.18 1525.51 2281.18 1523.82 Q2281.18 1521.07 2279.23 1519.33 Q2277.31 1517.6 2274.21 1517.6 Q2272.01 1517.6 2269.56 1518.36 Q2267.13 1519.13 2264.35 1520.68 L2264.35 1515.95 Q2267.17 1514.82 2269.63 1514.24 Q2272.08 1513.66 2274.12 1513.66 Q2279.49 1513.66 2282.68 1516.35 Q2285.88 1519.03 2285.88 1523.52 Q2285.88 1525.65 2285.07 1527.57 Q2284.28 1529.47 2282.17 1532.07 Q2281.59 1532.74 2278.49 1535.95 Q2275.39 1539.15 2269.74 1544.91 Z\" fill=\"#000000\" fill-rule=\"nonzero\" fill-opacity=\"1\" /><path clip-path=\"url(#clip180)\" d=\"M2305.88 1517.37 Q2302.26 1517.37 2300.44 1520.93 Q2298.63 1524.47 2298.63 1531.6 Q2298.63 1538.71 2300.44 1542.27 Q2302.26 1545.82 2305.88 1545.82 Q2309.51 1545.82 2311.32 1542.27 Q2313.14 1538.71 2313.14 1531.6 Q2313.14 1524.47 2311.32 1520.93 Q2309.51 1517.37 2305.88 1517.37 M2305.88 1513.66 Q2311.69 1513.66 2314.74 1518.27 Q2317.82 1522.85 2317.82 1531.6 Q2317.82 1540.33 2314.74 1544.94 Q2311.69 1549.52 2305.88 1549.52 Q2300.07 1549.52 2296.99 1544.94 Q2293.93 1540.33 2293.93 1531.6 Q2293.93 1522.85 2296.99 1518.27 Q2300.07 1513.66 2305.88 1513.66 Z\" fill=\"#000000\" fill-rule=\"nonzero\" fill-opacity=\"1\" /><polyline clip-path=\"url(#clip182)\" style=\"stroke:#000000; stroke-linecap:round; stroke-linejoin:round; stroke-width:2; stroke-opacity:0.1; fill:none\" points=\"169.607,1326.25 2352.76,1326.25 \"/>\n",
       "<polyline clip-path=\"url(#clip182)\" style=\"stroke:#000000; stroke-linecap:round; stroke-linejoin:round; stroke-width:2; stroke-opacity:0.1; fill:none\" points=\"169.607,1142 2352.76,1142 \"/>\n",
       "<polyline clip-path=\"url(#clip182)\" style=\"stroke:#000000; stroke-linecap:round; stroke-linejoin:round; stroke-width:2; stroke-opacity:0.1; fill:none\" points=\"169.607,957.743 2352.76,957.743 \"/>\n",
       "<polyline clip-path=\"url(#clip182)\" style=\"stroke:#000000; stroke-linecap:round; stroke-linejoin:round; stroke-width:2; stroke-opacity:0.1; fill:none\" points=\"169.607,773.49 2352.76,773.49 \"/>\n",
       "<polyline clip-path=\"url(#clip182)\" style=\"stroke:#000000; stroke-linecap:round; stroke-linejoin:round; stroke-width:2; stroke-opacity:0.1; fill:none\" points=\"169.607,589.237 2352.76,589.237 \"/>\n",
       "<polyline clip-path=\"url(#clip182)\" style=\"stroke:#000000; stroke-linecap:round; stroke-linejoin:round; stroke-width:2; stroke-opacity:0.1; fill:none\" points=\"169.607,404.984 2352.76,404.984 \"/>\n",
       "<polyline clip-path=\"url(#clip182)\" style=\"stroke:#000000; stroke-linecap:round; stroke-linejoin:round; stroke-width:2; stroke-opacity:0.1; fill:none\" points=\"169.607,220.731 2352.76,220.731 \"/>\n",
       "<polyline clip-path=\"url(#clip180)\" style=\"stroke:#000000; stroke-linecap:round; stroke-linejoin:round; stroke-width:4; stroke-opacity:1; fill:none\" points=\"169.607,1486.45 169.607,47.2441 \"/>\n",
       "<polyline clip-path=\"url(#clip180)\" style=\"stroke:#000000; stroke-linecap:round; stroke-linejoin:round; stroke-width:4; stroke-opacity:1; fill:none\" points=\"169.607,1326.25 188.505,1326.25 \"/>\n",
       "<polyline clip-path=\"url(#clip180)\" style=\"stroke:#000000; stroke-linecap:round; stroke-linejoin:round; stroke-width:4; stroke-opacity:1; fill:none\" points=\"169.607,1142 188.505,1142 \"/>\n",
       "<polyline clip-path=\"url(#clip180)\" style=\"stroke:#000000; stroke-linecap:round; stroke-linejoin:round; stroke-width:4; stroke-opacity:1; fill:none\" points=\"169.607,957.743 188.505,957.743 \"/>\n",
       "<polyline clip-path=\"url(#clip180)\" style=\"stroke:#000000; stroke-linecap:round; stroke-linejoin:round; stroke-width:4; stroke-opacity:1; fill:none\" points=\"169.607,773.49 188.505,773.49 \"/>\n",
       "<polyline clip-path=\"url(#clip180)\" style=\"stroke:#000000; stroke-linecap:round; stroke-linejoin:round; stroke-width:4; stroke-opacity:1; fill:none\" points=\"169.607,589.237 188.505,589.237 \"/>\n",
       "<polyline clip-path=\"url(#clip180)\" style=\"stroke:#000000; stroke-linecap:round; stroke-linejoin:round; stroke-width:4; stroke-opacity:1; fill:none\" points=\"169.607,404.984 188.505,404.984 \"/>\n",
       "<polyline clip-path=\"url(#clip180)\" style=\"stroke:#000000; stroke-linecap:round; stroke-linejoin:round; stroke-width:4; stroke-opacity:1; fill:none\" points=\"169.607,220.731 188.505,220.731 \"/>\n",
       "<path clip-path=\"url(#clip180)\" d=\"M53.7467 1339.59 L61.3856 1339.59 L61.3856 1313.23 L53.0754 1314.9 L53.0754 1310.64 L61.3393 1308.97 L66.0152 1308.97 L66.0152 1339.59 L73.654 1339.59 L73.654 1343.53 L53.7467 1343.53 L53.7467 1339.59 Z\" fill=\"#000000\" fill-rule=\"nonzero\" fill-opacity=\"1\" /><path clip-path=\"url(#clip180)\" d=\"M95.9456 1313.04 L84.1401 1331.49 L95.9456 1331.49 L95.9456 1313.04 M94.7187 1308.97 L100.598 1308.97 L100.598 1331.49 L105.529 1331.49 L105.529 1335.38 L100.598 1335.38 L100.598 1343.53 L95.9456 1343.53 L95.9456 1335.38 L80.3438 1335.38 L80.3438 1330.87 L94.7187 1308.97 Z\" fill=\"#000000\" fill-rule=\"nonzero\" fill-opacity=\"1\" /><path clip-path=\"url(#clip180)\" d=\"M117.288 1339.59 L133.607 1339.59 L133.607 1343.53 L111.663 1343.53 L111.663 1339.59 Q114.325 1336.84 118.908 1332.21 Q123.515 1327.56 124.695 1326.21 Q126.941 1323.69 127.82 1321.96 Q128.723 1320.2 128.723 1318.51 Q128.723 1315.75 126.779 1314.02 Q124.857 1312.28 121.756 1312.28 Q119.557 1312.28 117.103 1313.04 Q114.672 1313.81 111.895 1315.36 L111.895 1310.64 Q114.719 1309.5 117.172 1308.92 Q119.626 1308.34 121.663 1308.34 Q127.033 1308.34 130.228 1311.03 Q133.422 1313.71 133.422 1318.21 Q133.422 1320.34 132.612 1322.26 Q131.825 1324.15 129.719 1326.75 Q129.14 1327.42 126.038 1330.64 Q122.936 1333.83 117.288 1339.59 Z\" fill=\"#000000\" fill-rule=\"nonzero\" fill-opacity=\"1\" /><path clip-path=\"url(#clip180)\" d=\"M52.7977 1155.34 L60.4365 1155.34 L60.4365 1128.98 L52.1264 1130.64 L52.1264 1126.38 L60.3902 1124.72 L65.0661 1124.72 L65.0661 1155.34 L72.705 1155.34 L72.705 1159.28 L52.7977 1159.28 L52.7977 1155.34 Z\" fill=\"#000000\" fill-rule=\"nonzero\" fill-opacity=\"1\" /><path clip-path=\"url(#clip180)\" d=\"M94.9965 1128.79 L83.191 1147.24 L94.9965 1147.24 L94.9965 1128.79 M93.7697 1124.72 L99.6493 1124.72 L99.6493 1147.24 L104.58 1147.24 L104.58 1151.13 L99.6493 1151.13 L99.6493 1159.28 L94.9965 1159.28 L94.9965 1151.13 L79.3948 1151.13 L79.3948 1146.61 L93.7697 1124.72 Z\" fill=\"#000000\" fill-rule=\"nonzero\" fill-opacity=\"1\" /><path clip-path=\"url(#clip180)\" d=\"M126.478 1140.64 Q129.834 1141.36 131.709 1143.63 Q133.607 1145.9 133.607 1149.23 Q133.607 1154.35 130.089 1157.15 Q126.57 1159.95 120.089 1159.95 Q117.913 1159.95 115.598 1159.51 Q113.307 1159.09 110.853 1158.23 L110.853 1153.72 Q112.797 1154.86 115.112 1155.43 Q117.427 1156.01 119.95 1156.01 Q124.348 1156.01 126.64 1154.28 Q128.955 1152.54 128.955 1149.23 Q128.955 1146.17 126.802 1144.46 Q124.672 1142.73 120.853 1142.73 L116.825 1142.73 L116.825 1138.88 L121.038 1138.88 Q124.487 1138.88 126.316 1137.52 Q128.144 1136.13 128.144 1133.54 Q128.144 1130.87 126.246 1129.46 Q124.371 1128.03 120.853 1128.03 Q118.932 1128.03 116.733 1128.44 Q114.533 1128.86 111.895 1129.74 L111.895 1125.57 Q114.557 1124.83 116.871 1124.46 Q119.209 1124.09 121.27 1124.09 Q126.594 1124.09 129.695 1126.52 Q132.797 1128.93 132.797 1133.05 Q132.797 1135.92 131.154 1137.91 Q129.51 1139.88 126.478 1140.64 Z\" fill=\"#000000\" fill-rule=\"nonzero\" fill-opacity=\"1\" /><path clip-path=\"url(#clip180)\" d=\"M51.6634 971.088 L59.3023 971.088 L59.3023 944.723 L50.9921 946.389 L50.9921 942.13 L59.256 940.463 L63.9319 940.463 L63.9319 971.088 L71.5707 971.088 L71.5707 975.023 L51.6634 975.023 L51.6634 971.088 Z\" fill=\"#000000\" fill-rule=\"nonzero\" fill-opacity=\"1\" /><path clip-path=\"url(#clip180)\" d=\"M93.8623 944.537 L82.0568 962.986 L93.8623 962.986 L93.8623 944.537 M92.6354 940.463 L98.515 940.463 L98.515 962.986 L103.446 962.986 L103.446 966.875 L98.515 966.875 L98.515 975.023 L93.8623 975.023 L93.8623 966.875 L78.2605 966.875 L78.2605 962.361 L92.6354 940.463 Z\" fill=\"#000000\" fill-rule=\"nonzero\" fill-opacity=\"1\" /><path clip-path=\"url(#clip180)\" d=\"M124.024 944.537 L112.219 962.986 L124.024 962.986 L124.024 944.537 M122.797 940.463 L128.677 940.463 L128.677 962.986 L133.607 962.986 L133.607 966.875 L128.677 966.875 L128.677 975.023 L124.024 975.023 L124.024 966.875 L108.422 966.875 L108.422 962.361 L122.797 940.463 Z\" fill=\"#000000\" fill-rule=\"nonzero\" fill-opacity=\"1\" /><path clip-path=\"url(#clip180)\" d=\"M53.1449 786.835 L60.7837 786.835 L60.7837 760.47 L52.4736 762.136 L52.4736 757.877 L60.7374 756.21 L65.4133 756.21 L65.4133 786.835 L73.0522 786.835 L73.0522 790.77 L53.1449 790.77 L53.1449 786.835 Z\" fill=\"#000000\" fill-rule=\"nonzero\" fill-opacity=\"1\" /><path clip-path=\"url(#clip180)\" d=\"M95.3437 760.284 L83.5382 778.733 L95.3437 778.733 L95.3437 760.284 M94.1169 756.21 L99.9965 756.21 L99.9965 778.733 L104.927 778.733 L104.927 782.622 L99.9965 782.622 L99.9965 790.77 L95.3437 790.77 L95.3437 782.622 L79.742 782.622 L79.742 778.108 L94.1169 756.21 Z\" fill=\"#000000\" fill-rule=\"nonzero\" fill-opacity=\"1\" /><path clip-path=\"url(#clip180)\" d=\"M112.705 756.21 L131.061 756.21 L131.061 760.146 L116.987 760.146 L116.987 768.618 Q118.006 768.271 119.024 768.108 Q120.043 767.923 121.061 767.923 Q126.848 767.923 130.228 771.095 Q133.607 774.266 133.607 779.683 Q133.607 785.261 130.135 788.363 Q126.663 791.442 120.344 791.442 Q118.168 791.442 115.899 791.071 Q113.654 790.701 111.246 789.96 L111.246 785.261 Q113.33 786.395 115.552 786.951 Q117.774 787.507 120.251 787.507 Q124.256 787.507 126.594 785.4 Q128.932 783.294 128.932 779.683 Q128.932 776.071 126.594 773.965 Q124.256 771.858 120.251 771.858 Q118.376 771.858 116.501 772.275 Q114.649 772.692 112.705 773.571 L112.705 756.21 Z\" fill=\"#000000\" fill-rule=\"nonzero\" fill-opacity=\"1\" /><path clip-path=\"url(#clip180)\" d=\"M51.9875 602.582 L59.6263 602.582 L59.6263 576.217 L51.3162 577.883 L51.3162 573.624 L59.58 571.957 L64.2559 571.957 L64.2559 602.582 L71.8948 602.582 L71.8948 606.517 L51.9875 606.517 L51.9875 602.582 Z\" fill=\"#000000\" fill-rule=\"nonzero\" fill-opacity=\"1\" /><path clip-path=\"url(#clip180)\" d=\"M94.1863 576.031 L82.3808 594.48 L94.1863 594.48 L94.1863 576.031 M92.9595 571.957 L98.8391 571.957 L98.8391 594.48 L103.77 594.48 L103.77 598.369 L98.8391 598.369 L98.8391 606.517 L94.1863 606.517 L94.1863 598.369 L78.5846 598.369 L78.5846 593.855 L92.9595 571.957 Z\" fill=\"#000000\" fill-rule=\"nonzero\" fill-opacity=\"1\" /><path clip-path=\"url(#clip180)\" d=\"M122.08 587.374 Q118.932 587.374 117.08 589.527 Q115.251 591.68 115.251 595.43 Q115.251 599.156 117.08 601.332 Q118.932 603.485 122.08 603.485 Q125.228 603.485 127.057 601.332 Q128.908 599.156 128.908 595.43 Q128.908 591.68 127.057 589.527 Q125.228 587.374 122.08 587.374 M131.362 572.721 L131.362 576.981 Q129.603 576.147 127.797 575.707 Q126.015 575.268 124.256 575.268 Q119.626 575.268 117.172 578.393 Q114.742 581.518 114.395 587.837 Q115.76 585.823 117.82 584.758 Q119.881 583.67 122.357 583.67 Q127.566 583.67 130.575 586.842 Q133.607 589.99 133.607 595.43 Q133.607 600.754 130.459 603.971 Q127.311 607.189 122.08 607.189 Q116.084 607.189 112.913 602.605 Q109.742 597.999 109.742 589.272 Q109.742 581.078 113.631 576.217 Q117.52 571.332 124.07 571.332 Q125.83 571.332 127.612 571.68 Q129.418 572.027 131.362 572.721 Z\" fill=\"#000000\" fill-rule=\"nonzero\" fill-opacity=\"1\" /><path clip-path=\"url(#clip180)\" d=\"M53.0523 418.329 L60.6911 418.329 L60.6911 391.964 L52.381 393.63 L52.381 389.371 L60.6449 387.704 L65.3208 387.704 L65.3208 418.329 L72.9596 418.329 L72.9596 422.264 L53.0523 422.264 L53.0523 418.329 Z\" fill=\"#000000\" fill-rule=\"nonzero\" fill-opacity=\"1\" /><path clip-path=\"url(#clip180)\" d=\"M95.2511 391.778 L83.4457 410.227 L95.2511 410.227 L95.2511 391.778 M94.0243 387.704 L99.9039 387.704 L99.9039 410.227 L104.834 410.227 L104.834 414.116 L99.9039 414.116 L99.9039 422.264 L95.2511 422.264 L95.2511 414.116 L79.6494 414.116 L79.6494 409.602 L94.0243 387.704 Z\" fill=\"#000000\" fill-rule=\"nonzero\" fill-opacity=\"1\" /><path clip-path=\"url(#clip180)\" d=\"M111.385 387.704 L133.607 387.704 L133.607 389.695 L121.061 422.264 L116.177 422.264 L127.982 391.64 L111.385 391.64 L111.385 387.704 Z\" fill=\"#000000\" fill-rule=\"nonzero\" fill-opacity=\"1\" /><path clip-path=\"url(#clip180)\" d=\"M52.2421 234.076 L59.881 234.076 L59.881 207.711 L51.5708 209.377 L51.5708 205.118 L59.8347 203.451 L64.5106 203.451 L64.5106 234.076 L72.1494 234.076 L72.1494 238.011 L52.2421 238.011 L52.2421 234.076 Z\" fill=\"#000000\" fill-rule=\"nonzero\" fill-opacity=\"1\" /><path clip-path=\"url(#clip180)\" d=\"M94.441 207.525 L82.6355 225.974 L94.441 225.974 L94.441 207.525 M93.2141 203.451 L99.0937 203.451 L99.0937 225.974 L104.024 225.974 L104.024 229.863 L99.0937 229.863 L99.0937 238.011 L94.441 238.011 L94.441 229.863 L78.8392 229.863 L78.8392 225.349 L93.2141 203.451 Z\" fill=\"#000000\" fill-rule=\"nonzero\" fill-opacity=\"1\" /><path clip-path=\"url(#clip180)\" d=\"M121.756 221.599 Q118.422 221.599 116.501 223.382 Q114.603 225.164 114.603 228.289 Q114.603 231.414 116.501 233.197 Q118.422 234.979 121.756 234.979 Q125.089 234.979 127.01 233.197 Q128.932 231.391 128.932 228.289 Q128.932 225.164 127.01 223.382 Q125.112 221.599 121.756 221.599 M117.08 219.609 Q114.07 218.868 112.381 216.808 Q110.714 214.748 110.714 211.785 Q110.714 207.641 113.654 205.234 Q116.617 202.826 121.756 202.826 Q126.918 202.826 129.857 205.234 Q132.797 207.641 132.797 211.785 Q132.797 214.748 131.107 216.808 Q129.441 218.868 126.455 219.609 Q129.834 220.396 131.709 222.687 Q133.607 224.979 133.607 228.289 Q133.607 233.312 130.529 235.998 Q127.473 238.683 121.756 238.683 Q116.038 238.683 112.959 235.998 Q109.904 233.312 109.904 228.289 Q109.904 224.979 111.802 222.687 Q113.7 220.396 117.08 219.609 M115.367 212.225 Q115.367 214.91 117.033 216.414 Q118.723 217.919 121.756 217.919 Q124.765 217.919 126.455 216.414 Q128.168 214.91 128.168 212.225 Q128.168 209.539 126.455 208.035 Q124.765 206.53 121.756 206.53 Q118.723 206.53 117.033 208.035 Q115.367 209.539 115.367 212.225 Z\" fill=\"#000000\" fill-rule=\"nonzero\" fill-opacity=\"1\" /><polyline clip-path=\"url(#clip182)\" style=\"stroke:#009af9; stroke-linecap:round; stroke-linejoin:round; stroke-width:4; stroke-opacity:1; fill:none\" points=\"231.395,716.4 339.793,718.655 448.192,683.211 556.591,792.73 664.989,1175.54 773.388,905.017 881.786,1370.83 990.185,1190.66 1098.58,1413.51 1206.98,1059.88 1315.38,803.842 1423.78,685.025 1532.18,886.993 1640.58,1308.89 1748.98,1153.97 1857.37,1445.72 1965.77,892.587 2074.17,669.889 2182.57,399.646 2290.97,216.692 \"/>\n",
       "<polyline clip-path=\"url(#clip182)\" style=\"stroke:#e26f46; stroke-linecap:round; stroke-linejoin:round; stroke-width:4; stroke-opacity:1; fill:none\" points=\"231.395,1230.35 339.793,995.24 448.192,214.006 556.591,87.9763 664.989,201.2 773.388,96.3601 881.786,459.432 990.185,778.925 1098.58,337.087 1206.98,803.247 1315.38,1178.3 1423.78,1252.27 1532.18,917.115 1640.58,414.38 1748.98,378.728 1857.37,208.94 1965.77,506.692 2074.17,496.282 2182.57,588.776 2290.97,832.543 \"/>\n",
       "<path clip-path=\"url(#clip180)\" d=\"M1866.86 1438.47 L2279.98 1438.47 L2279.98 1282.95 L1866.86 1282.95  Z\" fill=\"#ffffff\" fill-rule=\"evenodd\" fill-opacity=\"1\"/>\n",
       "<polyline clip-path=\"url(#clip180)\" style=\"stroke:#000000; stroke-linecap:round; stroke-linejoin:round; stroke-width:4; stroke-opacity:1; fill:none\" points=\"1866.86,1438.47 2279.98,1438.47 2279.98,1282.95 1866.86,1282.95 1866.86,1438.47 \"/>\n",
       "<polyline clip-path=\"url(#clip180)\" style=\"stroke:#009af9; stroke-linecap:round; stroke-linejoin:round; stroke-width:4; stroke-opacity:1; fill:none\" points=\"1891.11,1334.79 2036.66,1334.79 \"/>\n",
       "<path clip-path=\"url(#clip180)\" d=\"M2060.91 1317.51 L2080.77 1317.51 L2080.77 1321.45 L2065.59 1321.45 L2065.59 1331.63 L2079.29 1331.63 L2079.29 1335.57 L2065.59 1335.57 L2065.59 1352.07 L2060.91 1352.07 L2060.91 1317.51 Z\" fill=\"#000000\" fill-rule=\"nonzero\" fill-opacity=\"1\" /><path clip-path=\"url(#clip180)\" d=\"M2096.35 1329.13 Q2092.93 1329.13 2090.94 1331.82 Q2088.95 1334.48 2088.95 1339.13 Q2088.95 1343.79 2090.91 1346.47 Q2092.9 1349.13 2096.35 1349.13 Q2099.76 1349.13 2101.75 1346.45 Q2103.74 1343.76 2103.74 1339.13 Q2103.74 1334.53 2101.75 1331.84 Q2099.76 1329.13 2096.35 1329.13 M2096.35 1325.52 Q2101.91 1325.52 2105.08 1329.13 Q2108.25 1332.75 2108.25 1339.13 Q2108.25 1345.5 2105.08 1349.13 Q2101.91 1352.75 2096.35 1352.75 Q2090.77 1352.75 2087.6 1349.13 Q2084.45 1345.5 2084.45 1339.13 Q2084.45 1332.75 2087.6 1329.13 Q2090.77 1325.52 2096.35 1325.52 Z\" fill=\"#000000\" fill-rule=\"nonzero\" fill-opacity=\"1\" /><path clip-path=\"url(#clip180)\" d=\"M2130.33 1330.13 Q2129.62 1329.71 2128.76 1329.53 Q2127.93 1329.32 2126.91 1329.32 Q2123.3 1329.32 2121.35 1331.68 Q2119.43 1334.02 2119.43 1338.42 L2119.43 1352.07 L2115.15 1352.07 L2115.15 1326.15 L2119.43 1326.15 L2119.43 1330.18 Q2120.77 1327.82 2122.93 1326.68 Q2125.08 1325.52 2128.16 1325.52 Q2128.6 1325.52 2129.13 1325.59 Q2129.66 1325.64 2130.31 1325.76 L2130.33 1330.13 Z\" fill=\"#000000\" fill-rule=\"nonzero\" fill-opacity=\"1\" /><path clip-path=\"url(#clip180)\" d=\"M2155.94 1338.05 L2155.94 1340.13 L2136.35 1340.13 Q2136.63 1344.53 2138.99 1346.84 Q2141.38 1349.13 2145.61 1349.13 Q2148.07 1349.13 2150.36 1348.53 Q2152.67 1347.93 2154.94 1346.73 L2154.94 1350.75 Q2152.65 1351.73 2150.24 1352.24 Q2147.83 1352.75 2145.36 1352.75 Q2139.15 1352.75 2135.52 1349.13 Q2131.91 1345.52 2131.91 1339.37 Q2131.91 1333 2135.33 1329.27 Q2138.78 1325.52 2144.62 1325.52 Q2149.85 1325.52 2152.88 1328.9 Q2155.94 1332.26 2155.94 1338.05 M2151.68 1336.8 Q2151.63 1333.3 2149.71 1331.22 Q2147.81 1329.13 2144.66 1329.13 Q2141.1 1329.13 2138.95 1331.15 Q2136.82 1333.16 2136.49 1336.82 L2151.68 1336.8 Z\" fill=\"#000000\" fill-rule=\"nonzero\" fill-opacity=\"1\" /><path clip-path=\"url(#clip180)\" d=\"M2181.58 1327.14 L2181.58 1331.13 Q2179.78 1330.13 2177.95 1329.64 Q2176.14 1329.13 2174.29 1329.13 Q2170.15 1329.13 2167.86 1331.77 Q2165.57 1334.39 2165.57 1339.13 Q2165.57 1343.88 2167.86 1346.52 Q2170.15 1349.13 2174.29 1349.13 Q2176.14 1349.13 2177.95 1348.65 Q2179.78 1348.14 2181.58 1347.14 L2181.58 1351.08 Q2179.8 1351.91 2177.88 1352.33 Q2175.98 1352.75 2173.83 1352.75 Q2167.97 1352.75 2164.52 1349.07 Q2161.07 1345.38 2161.07 1339.13 Q2161.07 1332.79 2164.55 1329.16 Q2168.04 1325.52 2174.11 1325.52 Q2176.07 1325.52 2177.95 1325.94 Q2179.82 1326.33 2181.58 1327.14 Z\" fill=\"#000000\" fill-rule=\"nonzero\" fill-opacity=\"1\" /><path clip-path=\"url(#clip180)\" d=\"M2200.77 1339.04 Q2195.61 1339.04 2193.62 1340.22 Q2191.63 1341.4 2191.63 1344.25 Q2191.63 1346.52 2193.11 1347.86 Q2194.62 1349.18 2197.19 1349.18 Q2200.73 1349.18 2202.86 1346.68 Q2205.01 1344.16 2205.01 1339.99 L2205.01 1339.04 L2200.77 1339.04 M2209.27 1337.28 L2209.27 1352.07 L2205.01 1352.07 L2205.01 1348.14 Q2203.55 1350.5 2201.38 1351.63 Q2199.2 1352.75 2196.05 1352.75 Q2192.07 1352.75 2189.71 1350.52 Q2187.37 1348.28 2187.37 1344.53 Q2187.37 1340.15 2190.29 1337.93 Q2193.23 1335.71 2199.04 1335.71 L2205.01 1335.71 L2205.01 1335.29 Q2205.01 1332.35 2203.07 1330.76 Q2201.14 1329.13 2197.65 1329.13 Q2195.43 1329.13 2193.32 1329.67 Q2191.21 1330.2 2189.27 1331.26 L2189.27 1327.33 Q2191.61 1326.43 2193.81 1325.99 Q2196.01 1325.52 2198.09 1325.52 Q2203.71 1325.52 2206.49 1328.44 Q2209.27 1331.36 2209.27 1337.28 Z\" fill=\"#000000\" fill-rule=\"nonzero\" fill-opacity=\"1\" /><path clip-path=\"url(#clip180)\" d=\"M2234.57 1326.91 L2234.57 1330.94 Q2232.76 1330.01 2230.82 1329.55 Q2228.88 1329.09 2226.79 1329.09 Q2223.62 1329.09 2222.02 1330.06 Q2220.45 1331.03 2220.45 1332.98 Q2220.45 1334.46 2221.58 1335.32 Q2222.72 1336.15 2226.14 1336.91 L2227.6 1337.24 Q2232.14 1338.21 2234.04 1339.99 Q2235.96 1341.75 2235.96 1344.92 Q2235.96 1348.53 2233.09 1350.64 Q2230.24 1352.75 2225.24 1352.75 Q2223.16 1352.75 2220.89 1352.33 Q2218.64 1351.94 2216.14 1351.13 L2216.14 1346.73 Q2218.51 1347.95 2220.8 1348.58 Q2223.09 1349.18 2225.33 1349.18 Q2228.34 1349.18 2229.96 1348.16 Q2231.58 1347.12 2231.58 1345.25 Q2231.58 1343.51 2230.4 1342.58 Q2229.25 1341.66 2225.29 1340.8 L2223.81 1340.45 Q2219.85 1339.62 2218.09 1337.91 Q2216.33 1336.17 2216.33 1333.16 Q2216.33 1329.51 2218.92 1327.51 Q2221.51 1325.52 2226.28 1325.52 Q2228.64 1325.52 2230.73 1325.87 Q2232.81 1326.22 2234.57 1326.91 Z\" fill=\"#000000\" fill-rule=\"nonzero\" fill-opacity=\"1\" /><path clip-path=\"url(#clip180)\" d=\"M2246.95 1318.79 L2246.95 1326.15 L2255.73 1326.15 L2255.73 1329.46 L2246.95 1329.46 L2246.95 1343.53 Q2246.95 1346.7 2247.81 1347.61 Q2248.69 1348.51 2251.35 1348.51 L2255.73 1348.51 L2255.73 1352.07 L2251.35 1352.07 Q2246.42 1352.07 2244.55 1350.25 Q2242.67 1348.39 2242.67 1343.53 L2242.67 1329.46 L2239.55 1329.46 L2239.55 1326.15 L2242.67 1326.15 L2242.67 1318.79 L2246.95 1318.79 Z\" fill=\"#000000\" fill-rule=\"nonzero\" fill-opacity=\"1\" /><polyline clip-path=\"url(#clip180)\" style=\"stroke:#e26f46; stroke-linecap:round; stroke-linejoin:round; stroke-width:4; stroke-opacity:1; fill:none\" points=\"1891.11,1386.63 2036.66,1386.63 \"/>\n",
       "<path clip-path=\"url(#clip180)\" d=\"M2060.91 1369.35 L2090.15 1369.35 L2090.15 1373.29 L2077.88 1373.29 L2077.88 1403.91 L2073.18 1403.91 L2073.18 1373.29 L2060.91 1373.29 L2060.91 1369.35 Z\" fill=\"#000000\" fill-rule=\"nonzero\" fill-opacity=\"1\" /><path clip-path=\"url(#clip180)\" d=\"M2102.53 1381.97 Q2101.82 1381.55 2100.96 1381.37 Q2100.13 1381.16 2099.11 1381.16 Q2095.5 1381.16 2093.55 1383.52 Q2091.63 1385.86 2091.63 1390.26 L2091.63 1403.91 L2087.35 1403.91 L2087.35 1377.99 L2091.63 1377.99 L2091.63 1382.02 Q2092.97 1379.66 2095.13 1378.52 Q2097.28 1377.36 2100.36 1377.36 Q2100.8 1377.36 2101.33 1377.43 Q2101.86 1377.48 2102.51 1377.6 L2102.53 1381.97 Z\" fill=\"#000000\" fill-rule=\"nonzero\" fill-opacity=\"1\" /><path clip-path=\"url(#clip180)\" d=\"M2106.56 1393.68 L2106.56 1377.99 L2110.82 1377.99 L2110.82 1393.52 Q2110.82 1397.2 2112.26 1399.05 Q2113.69 1400.88 2116.56 1400.88 Q2120.01 1400.88 2122 1398.68 Q2124.01 1396.48 2124.01 1392.69 L2124.01 1377.99 L2128.27 1377.99 L2128.27 1403.91 L2124.01 1403.91 L2124.01 1399.93 Q2122.46 1402.29 2120.4 1403.45 Q2118.37 1404.59 2115.66 1404.59 Q2111.19 1404.59 2108.88 1401.81 Q2106.56 1399.03 2106.56 1393.68 M2117.28 1377.36 L2117.28 1377.36 Z\" fill=\"#000000\" fill-rule=\"nonzero\" fill-opacity=\"1\" /><path clip-path=\"url(#clip180)\" d=\"M2141.26 1370.63 L2141.26 1377.99 L2150.03 1377.99 L2150.03 1381.3 L2141.26 1381.3 L2141.26 1395.37 Q2141.26 1398.54 2142.12 1399.45 Q2143 1400.35 2145.66 1400.35 L2150.03 1400.35 L2150.03 1403.91 L2145.66 1403.91 Q2140.73 1403.91 2138.85 1402.09 Q2136.98 1400.23 2136.98 1395.37 L2136.98 1381.3 L2133.85 1381.3 L2133.85 1377.99 L2136.98 1377.99 L2136.98 1370.63 L2141.26 1370.63 Z\" fill=\"#000000\" fill-rule=\"nonzero\" fill-opacity=\"1\" /><path clip-path=\"url(#clip180)\" d=\"M2177.19 1388.27 L2177.19 1403.91 L2172.93 1403.91 L2172.93 1388.41 Q2172.93 1384.72 2171.49 1382.9 Q2170.06 1381.07 2167.19 1381.07 Q2163.74 1381.07 2161.75 1383.27 Q2159.76 1385.47 2159.76 1389.26 L2159.76 1403.91 L2155.47 1403.91 L2155.47 1367.9 L2159.76 1367.9 L2159.76 1382.02 Q2161.28 1379.68 2163.34 1378.52 Q2165.43 1377.36 2168.13 1377.36 Q2172.6 1377.36 2174.89 1380.14 Q2177.19 1382.9 2177.19 1388.27 Z\" fill=\"#000000\" fill-rule=\"nonzero\" fill-opacity=\"1\" /></svg>\n"
      ]
     },
     "metadata": {},
     "output_type": "display_data"
    }
   ],
   "source": [
    "plot(forecast_array, label = \"Forecast\")\n",
    "plot!(prices[end-steps_ahead+1:end], label = \"Truth\")\n"
   ]
  }
 ],
 "metadata": {
  "kernelspec": {
   "display_name": "Julia 1.9.4",
   "language": "julia",
   "name": "julia-1.9"
  },
  "language_info": {
   "file_extension": ".jl",
   "mimetype": "application/julia",
   "name": "julia",
   "version": "1.9.4"
  }
 },
 "nbformat": 4,
 "nbformat_minor": 2
}
