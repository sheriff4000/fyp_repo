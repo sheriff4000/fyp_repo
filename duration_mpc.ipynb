{
 "cells": [
  {
   "cell_type": "code",
   "execution_count": 2,
   "metadata": {},
   "outputs": [
    {
     "name": "stderr",
     "output_type": "stream",
     "text": [
      "\u001b[32m\u001b[1m    Updating\u001b[22m\u001b[39m registry at `~/.julia/registries/General.toml`\n"
     ]
    },
    {
     "name": "stderr",
     "output_type": "stream",
     "text": [
      "\u001b[32m\u001b[1m   Resolving\u001b[22m\u001b[39m package versions...\n"
     ]
    },
    {
     "name": "stderr",
     "output_type": "stream",
     "text": [
      "\u001b[32m\u001b[1m  No Changes\u001b[22m\u001b[39m to `~/Documents/uni-4/FYP/fyp_repo/Project.toml`\n",
      "\u001b[32m\u001b[1m  No Changes\u001b[22m\u001b[39m to `~/Documents/uni-4/FYP/fyp_repo/Manifest.toml`\n"
     ]
    },
    {
     "name": "stderr",
     "output_type": "stream",
     "text": [
      "┌ Info: Dependencies added\n",
      "└ @ Main /Users/sherifagbabiaka/Documents/uni-4/FYP/fyp_repo/duration_mpc.ipynb:4\n"
     ]
    }
   ],
   "source": [
    "using Pkg; Pkg.add(\"Suppressor\"); using Suppressor: @suppress;\n",
    "@suppress Pkg.add(url=\"https://github.com/JuDO-dev/AirBorne.jl#dev\")\n",
    "@suppress Pkg.add([\"Dates\",\"Plots\",\"DataFrames\"])\n",
    "@info \"Dependencies added\"\n",
    "using AirBorne.ETL.YFinance: get_chart_data, parse_intraday_raw_data\n",
    "using Dates: DateTime,datetime2unix"
   ]
  },
  {
   "cell_type": "code",
   "execution_count": 3,
   "metadata": {},
   "outputs": [
    {
     "data": {
      "text/plain": [
       "get_and_process_data (generic function with 1 method)"
      ]
     },
     "metadata": {},
     "output_type": "display_data"
    }
   ],
   "source": [
    "using DataFrames\n",
    "#input dates as \"yyyy-mm-dd\"\n",
    "function get_and_process_data(tickers::Vector{String}, start_date::DateTime, end_date::DateTime, freq::String)\n",
    "    unix(x) = string(round(Int, datetime2unix(DateTime(x))))\n",
    "    function get_data()\n",
    "        df = DataFrames.DataFrame()\n",
    "        for ticker in tickers\n",
    "            df = DataFrames.vcat(\n",
    "                df, parse_intraday_raw_data(get_chart_data(ticker, unix(start_date), unix(end_date), freq))\n",
    "            )\n",
    "        end\n",
    "        return df\n",
    "    end\n",
    "    df = get_data()\n",
    "    processed_data = Dict()\n",
    "    for ticker in tickers\n",
    "        tmp = df[df[!, \"symbol\"] .== ticker, :]\n",
    "        weekly = tmp\n",
    "        insertcols!(weekly, \"t+1 close\" => vcat(weekly[!, \"close\"][2:end], missing))\n",
    "        insertcols!(weekly, \"t+2 close\" => vcat(weekly[!, \"close\"][3:end], [missing, missing]))\n",
    "        insertcols!(weekly, \"t+3 close\" => vcat(weekly[!, \"close\"][4:end], [missing, missing, missing]))\n",
    "        insertcols!(weekly, \"t+4 close\" => vcat(weekly[!, \"close\"][5:end], [missing, missing, missing, missing]))\n",
    "        dropmissing!(weekly)\n",
    "        insertcols!(weekly, \"1\" => weekly[!, \"t+1 close\"] ./ weekly[!, \"close\"] .- 1)\n",
    "        insertcols!(weekly, \"2\" => (weekly[!, \"t+2 close\"] ./ weekly[!, \"close\"]).^(1/2) .- 1)\n",
    "        insertcols!(weekly, \"3\" => (weekly[!, \"t+3 close\"] ./ weekly[!, \"close\"]).^(1/3) .- 1)\n",
    "        insertcols!(weekly, \"4\" => (weekly[!, \"t+4 close\"] ./ weekly[!, \"close\"]).^(1/4) .- 1)\n",
    "        #insertcols!(weekly, \"max returns\" => maximum(weekly[!, [\"t+1 returns\", \"t+2 returns\", \"t+3 returns\", \"t+4 returns\"]], dims=2))\n",
    "        # maximum((weekly[!, [\"t+1 returns\", \"t+2 returns\", \"t+3 returns\", \"t+4 returns\"]], dims=2))\n",
    "        processed = combine(weekly, 1:6,11,17:20, AsTable([\"1\", \"2\", \"3\", \"4\"]) .=> ByRow.(findmax) => [\"max returns\", \"duration\"] )\n",
    "        conversion_func(x) = parse(Int, string(x))\n",
    "        processed_data[ticker] = combine(processed, :, \"duration\" .=> ByRow.(conversion_func) => \"duration\")\n",
    "    end\n",
    "    return processed_data\n",
    "end"
   ]
  },
  {
   "cell_type": "code",
   "execution_count": 7,
   "metadata": {},
   "outputs": [],
   "source": [
    "using DirectSearch\n",
    "\n",
    "# series = get_and_process_data([\"GOOG\", \"AAPL\"], DateTime(\"2023-11-25\"), DateTime(\"2024-01-15\"), \"5m\")\n",
    "series = get_and_process_data([\"GOOG\", \"AAPL\"], DateTime(\"2022-01-01\"), DateTime(\"2023-01-01\"), \"1d\")\n",
    "\n",
    "#print(series[\"GOOG\"])\n",
    "total = nrow(series[\"GOOG\"])\n",
    "println(\"total = \", total)\n",
    "trade = 0.01\n",
    "dur = 1\n",
    "portfolio = [0.5, 0.5]\n",
    "println(series[\"GOOG\"][:, :])\n",
    "\n",
    "value = 1\n",
    "\n",
    "for i = 1:total\n",
    "    if dur == 1\n",
    "        println(\"reoptimizing, week = \", i)\n",
    "        #COVARIANCE MEASURE (WRT TIME?)\n",
    "        #DIFFERENT COST MEASURE\n",
    "        obj(x) = -x[1]*series[\"GOOG\"][i, :][\"max returns\"] - x[2]*series[\"AAPL\"][i, :][\"max returns\"] + trade * (abs(x[1] - portfolio[1]) + abs(x[2] - portfolio[2]))\n",
    "        p = DSProblem(2, objective=obj, lower=[0.,0.], upper=[1.,1.])\n",
    "        valcond(x) = x[1] + x[2] <= 1\n",
    "        buyonly(x) = x[1] >=0 && x[2] >= 0\n",
    "        duration(x) = x[1]*series[\"GOOG\"][i, :][\"duration\"] + x[2]*series[\"AAPL\"][i, :][\"duration\"] >= 1\n",
    "        AddExtremeConstraint(p, buyonly)\n",
    "        AddExtremeConstraint(p, valcond)\n",
    "        SetGranularity(p, [0.1, 0.1])\n",
    "        SetInitialPoint(p, [0.5, 0.5])\n",
    "        @suppress Optimize!(p)\n",
    "        dur = round(Int, p.x[1] * series[\"GOOG\"][i, :][\"duration\"] + p.x[2] * series[\"AAPL\"][i, :][\"duration\"])\n",
    "        if dur == 0\n",
    "            dur = 1\n",
    "        end\n",
    "        println(\"duration = \", dur)\n",
    "        returns = ((series[\"GOOG\"][i, :][\"1\"]) * p.x[1] + series[\"AAPL\"][i, :][\"1\"] * p.x[2])\n",
    "        value *= 1 + returns\n",
    "        value -= trade * (abs(p.x[1] - portfolio[1]) + abs(p.x[2] - portfolio[2]))\n",
    "        portfolio = p.x\n",
    "    else\n",
    "        returns = (series[\"GOOG\"][i, :][\"1\"] * portfolio[1] + series[\"AAPL\"][i, :][\"1\"] * portfolio[2])\n",
    "        value *= 1 + returns\n",
    "        dur -= 1\n",
    "    end\n",
    "    println(\"value = \", value)\n",
    "\n",
    "end\n",
    "\n",
    "println(\"final value = \", value)\n",
    "\n",
    "\n",
    "\n",
    "\n",
    "\n",
    "# cov_matrix = cov(google[!, \"close\"], apple[!, \"close\"])\n",
    "# print(cov_matrix)\n",
    "\n",
    "# MONEY UNDER MATTRESS\n",
    "# INTEREST RATE/SAVINGS/FIXED TERM\n",
    "# BONDS\n",
    "# S&P"
   ]
  }
 ],
 "metadata": {
  "kernelspec": {
   "display_name": "Julia 1.9.4",
   "language": "julia",
   "name": "julia-1.9"
  },
  "language_info": {
   "file_extension": ".jl",
   "mimetype": "application/julia",
   "name": "julia",
   "version": "1.9.4"
  }
 },
 "nbformat": 4,
 "nbformat_minor": 2
}
